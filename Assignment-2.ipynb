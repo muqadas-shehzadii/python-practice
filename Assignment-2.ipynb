{
 "cells": [
  {
   "cell_type": "markdown",
   "id": "18c513ac-000f-4191-9ee7-e720b7dda865",
   "metadata": {},
   "source": [
    "# Assignment\n"
   ]
  },
  {
   "cell_type": "code",
   "execution_count": 36,
   "id": "7f44ca03-476a-4760-82fc-e6dc9fddde10",
   "metadata": {},
   "outputs": [
    {
     "name": "stdin",
     "output_type": "stream",
     "text": [
      "Enter the favourite food name you ate: biryani\n",
      "Enter what your emotion after having your favourite food: good\n",
      "Enter your dream place you want to live: USA\n"
     ]
    },
    {
     "name": "stdout",
     "output_type": "stream",
     "text": [
      "I ate biryani then I am  good and now I am dreaming to live in USA\n"
     ]
    }
   ],
   "source": [
    "food = input(\"Enter the favourite food name you ate:\")\n",
    "emotion = input(\"Enter what your emotion after having your favourite food:\")\n",
    "place = input(\"Enter your dream place you want to live:\")\n",
    "result = (\"I ate \" + food + \" I am  \" + emotion + \" and now I am dreaming to live in \" + place)\n",
    "print(result)"
   ]
  },
  {
   "cell_type": "code",
   "execution_count": null,
   "id": "f932f4f8-9526-4402-900c-6cb82ad5fce7",
   "metadata": {},
   "outputs": [],
   "source": []
  },
  {
   "cell_type": "code",
   "execution_count": null,
   "id": "489f10a3-268e-421f-bf3f-f1012c0b63ec",
   "metadata": {},
   "outputs": [],
   "source": []
  }
 ],
 "metadata": {
  "kernelspec": {
   "display_name": "Python 3 (ipykernel)",
   "language": "python",
   "name": "python3"
  },
  "language_info": {
   "codemirror_mode": {
    "name": "ipython",
    "version": 3
   },
   "file_extension": ".py",
   "mimetype": "text/x-python",
   "name": "python",
   "nbconvert_exporter": "python",
   "pygments_lexer": "ipython3",
   "version": "3.12.7"
  }
 },
 "nbformat": 4,
 "nbformat_minor": 5
}
