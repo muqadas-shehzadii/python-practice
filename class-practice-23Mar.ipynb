{
 "cells": [
  {
   "cell_type": "markdown",
   "id": "b04f39dc-d007-4de9-adc0-95312dc5a5c9",
   "metadata": {},
   "source": [
    "---\n",
    "<h1 align = 'center'>Advance Python</h1> \n",
    "\n",
    "---\n"
   ]
  },
  {
   "cell_type": "markdown",
   "id": "e8968adf-fca3-4dd9-b50a-340a69c99090",
   "metadata": {},
   "source": [
    "#### Age Calculator"
   ]
  },
  {
   "cell_type": "code",
   "execution_count": 33,
   "id": "88b87282-659e-4395-8676-0a66665c05b2",
   "metadata": {},
   "outputs": [
    {
     "name": "stdin",
     "output_type": "stream",
     "text": [
      "what is your birth year:  2004\n"
     ]
    }
   ],
   "source": [
    "birth_year = int(input(\"what is your birth year: \"))"
   ]
  },
  {
   "cell_type": "code",
   "execution_count": 37,
   "id": "5ea10c72-032f-4749-b5ca-a4c266b70915",
   "metadata": {},
   "outputs": [
    {
     "name": "stdout",
     "output_type": "stream",
     "text": [
      "<class 'int'>\n"
     ]
    }
   ],
   "source": [
    "print(type(birth_year))"
   ]
  },
  {
   "cell_type": "code",
   "execution_count": 41,
   "id": "9c4e1c9e-9878-4857-9374-b62c1dbe1cd4",
   "metadata": {},
   "outputs": [],
   "source": [
    "age = 2025 - birth_year"
   ]
  },
  {
   "cell_type": "code",
   "execution_count": 45,
   "id": "103c2d9b-da74-4b91-a71c-5654cee58997",
   "metadata": {},
   "outputs": [
    {
     "name": "stdout",
     "output_type": "stream",
     "text": [
      "you are 21 year old\n"
     ]
    }
   ],
   "source": [
    "print(\"you are\" , age , \"year old\")"
   ]
  },
  {
   "cell_type": "markdown",
   "id": "e5383266-ebf7-4b86-8996-0ed0212947c6",
   "metadata": {},
   "source": [
    "---\n",
    "### Favourite Color Game"
   ]
  },
  {
   "cell_type": "code",
   "execution_count": 56,
   "id": "4c577a04-4515-43bb-b3ba-224fd511f156",
   "metadata": {},
   "outputs": [
    {
     "name": "stdin",
     "output_type": "stream",
     "text": [
      "What is your favourit color beige\n"
     ]
    },
    {
     "name": "stdout",
     "output_type": "stream",
     "text": [
      "Wow!  beige is a beautiful color!!!\n"
     ]
    }
   ],
   "source": [
    "color = input(\"What is your favourit color\")\n",
    "print(\"Wow! \" , color , \"is a beautiful color!!!\")"
   ]
  },
  {
   "cell_type": "markdown",
   "id": "3f5a44dd-cc32-4ef3-9d35-29b1c4b9ff88",
   "metadata": {},
   "source": [
    "---\n",
    "### Temperature Converter\n",
    "##### Convert celcius to farnheit"
   ]
  },
  {
   "cell_type": "code",
   "execution_count": 70,
   "id": "879ea8a4-e611-4417-a57e-2380a865577e",
   "metadata": {},
   "outputs": [
    {
     "name": "stdin",
     "output_type": "stream",
     "text": [
      "What is the temperature today in celcius?  31\n"
     ]
    },
    {
     "name": "stdout",
     "output_type": "stream",
     "text": [
      "temperature in farenheit is:  87.8\n"
     ]
    }
   ],
   "source": [
    "celcius =int(input(\"What is the temperature today in celcius? \"))\n",
    "farenheit = (celcius * 9/5)+32\n",
    "print(\"temperature in farenheit is: \",farenheit)"
   ]
  },
  {
   "cell_type": "markdown",
   "id": "efc44dda-55c4-4309-8398-47b7c149172f",
   "metadata": {},
   "source": [
    "#### First Letter Extractor"
   ]
  },
  {
   "cell_type": "code",
   "execution_count": 77,
   "id": "7790e1b3-5ca1-4688-96e9-9d9a6fa1cb41",
   "metadata": {},
   "outputs": [
    {
     "name": "stdin",
     "output_type": "stream",
     "text": [
      "Enter any word : \n",
      " muqadas\n"
     ]
    },
    {
     "name": "stdout",
     "output_type": "stream",
     "text": [
      "first letter: m\n"
     ]
    }
   ],
   "source": [
    "word = input(\"Enter any word : \\n\")\n",
    "print(\"first letter:\",word[0])"
   ]
  },
  {
   "cell_type": "markdown",
   "id": "9d923d97-2ece-4b9b-95e5-057074321ad9",
   "metadata": {},
   "source": [
    "---\n",
    "#### Name Length counter"
   ]
  },
  {
   "cell_type": "code",
   "execution_count": 90,
   "id": "232ca3d3-2272-4d80-9dc0-53ad88627f23",
   "metadata": {},
   "outputs": [
    {
     "name": "stdin",
     "output_type": "stream",
     "text": [
      "Enter your Full Name:  muqadas shehzadi\n"
     ]
    },
    {
     "name": "stdout",
     "output_type": "stream",
     "text": [
      "Length of your name is 16\n"
     ]
    }
   ],
   "source": [
    "name = input(\"Enter your Full Name: \")\n",
    "print(\"Length of your name is\" ,len(name))\n"
   ]
  },
  {
   "cell_type": "markdown",
   "id": "1c208924-280a-49bc-a837-328e0af4430f",
   "metadata": {},
   "source": [
    "---\n",
    "### Simple  Tip \n",
    "#### ask the amount of the bill and calculate the 10% to pay for the bill"
   ]
  },
  {
   "cell_type": "code",
   "execution_count": 97,
   "id": "50fec8e3-652a-4510-89dc-733e93285d14",
   "metadata": {},
   "outputs": [
    {
     "name": "stdin",
     "output_type": "stream",
     "text": [
      "Enter your bill amount 15000\n"
     ]
    },
    {
     "name": "stdout",
     "output_type": "stream",
     "text": [
      "you should tip:  1500.0\n"
     ]
    }
   ],
   "source": [
    "bill = float(input(\"Enter your bill amount\"))\n",
    "tip = bill * 0.10\n",
    "print(\"you should tip: \" , tip)\n"
   ]
  },
  {
   "cell_type": "markdown",
   "id": "635f11c9-c437-4455-9796-72f74a7bf1a3",
   "metadata": {},
   "source": [
    "### Funny Nick Name Generator\n",
    "#### Ask user for name as input()\n",
    "#### Concatenate the user with \"The Great\" to the user"
   ]
  },
  {
   "cell_type": "code",
   "execution_count": 106,
   "id": "5880da54-d799-4bed-8de2-ebe6416a398c",
   "metadata": {},
   "outputs": [
    {
     "name": "stdin",
     "output_type": "stream",
     "text": [
      "Enter your name muqadas\n"
     ]
    },
    {
     "name": "stdout",
     "output_type": "stream",
     "text": [
      "Nick name :  muqadas the great\n"
     ]
    }
   ],
   "source": [
    "user_name = input(\"Enter your name\")\n",
    "print(\"Nick name : \" , user_name + \" the great\") "
   ]
  },
  {
   "cell_type": "markdown",
   "id": "b5000f89-f468-4672-8876-0c01bbcb305f",
   "metadata": {},
   "source": [
    "#### Word Tripler"
   ]
  },
  {
   "cell_type": "code",
   "execution_count": 122,
   "id": "d4d9bd16-e8c3-4221-8b67-8b42ee95d937",
   "metadata": {},
   "outputs": [
    {
     "name": "stdin",
     "output_type": "stream",
     "text": [
      "Enter the word to make it triple pencil\n"
     ]
    },
    {
     "name": "stdout",
     "output_type": "stream",
     "text": [
      "pencil pencil pencil\n"
     ]
    }
   ],
   "source": [
    "word = input(\"Enter the word to make it triple\")\n",
    "print(word , word , word)"
   ]
  },
  {
   "cell_type": "code",
   "execution_count": null,
   "id": "f42971fe-b420-43d1-96e2-74541ff52dae",
   "metadata": {},
   "outputs": [],
   "source": []
  }
 ],
 "metadata": {
  "kernelspec": {
   "display_name": "Python 3 (ipykernel)",
   "language": "python",
   "name": "python3"
  },
  "language_info": {
   "codemirror_mode": {
    "name": "ipython",
    "version": 3
   },
   "file_extension": ".py",
   "mimetype": "text/x-python",
   "name": "python",
   "nbconvert_exporter": "python",
   "pygments_lexer": "ipython3",
   "version": "3.12.7"
  }
 },
 "nbformat": 4,
 "nbformat_minor": 5
}
