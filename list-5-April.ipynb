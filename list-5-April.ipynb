{
 "cells": [
  {
   "cell_type": "markdown",
   "id": "38988d37-0b02-49a0-94fb-02e0f06417c0",
   "metadata": {},
   "source": [
    "### Slicing lists"
   ]
  },
  {
   "cell_type": "code",
   "execution_count": 1,
   "id": "10f3761f-b36b-49dc-b68f-806d77b97c1d",
   "metadata": {},
   "outputs": [
    {
     "data": {
      "text/plain": [
       "['a', 'b', 'c', 'd', 'e', 'f', 'g', 'h', 'i']"
      ]
     },
     "execution_count": 1,
     "metadata": {},
     "output_type": "execute_result"
    }
   ],
   "source": [
    "list1 = ['a','b','c','d','e','f','g','h','i']\n",
    "list1[::]"
   ]
  },
  {
   "cell_type": "code",
   "execution_count": 40,
   "id": "ae3698f7-0dc1-4fe6-891f-c0ff6e9126b6",
   "metadata": {},
   "outputs": [
    {
     "name": "stdout",
     "output_type": "stream",
     "text": [
      "['Muqadas-shehzadi', 'hello']\n"
     ]
    }
   ],
   "source": [
    "list2 = ['Muqadas-shehzadi','Aqsa','hello',['a','b','c','d']]\n",
    "print(list2[0:len(list2):2])"
   ]
  },
  {
   "cell_type": "code",
   "execution_count": 63,
   "id": "83d0d618-c486-4774-b84b-806264320b3f",
   "metadata": {},
   "outputs": [
    {
     "name": "stdout",
     "output_type": "stream",
     "text": [
      "['i', 'h', 'g', 'f', 'e', 'd', 'c', 'b', 'a']\n",
      "['f', 'e', 'd', 'c']\n",
      "[]\n",
      "['i', 'g', 'e', 'c', 'a']\n",
      "['c', 'd', 'e', 'f', 'g', 'h', 'i']\n"
     ]
    }
   ],
   "source": [
    "print(list1[::-1])\n",
    "print(list1[5:1:-1])\n",
    "print(list1[2:10:-1])\n",
    "print(list1[::-2])\n"
   ]
  },
  {
   "cell_type": "code",
   "execution_count": 75,
   "id": "812cdfb7-d0d2-4722-a991-45fc9ec5266c",
   "metadata": {},
   "outputs": [
    {
     "name": "stdout",
     "output_type": "stream",
     "text": [
      "['c', 'd', 'e', 'f', 'g', 'h', 'i']\n",
      "[]\n",
      "c\n",
      "['a', 'b', 'c', 'd', 'e']\n",
      "[]\n",
      "['e', 'f', 'g']\n"
     ]
    }
   ],
   "source": [
    "print(list1[2:10])\n",
    "print(list1[12:10])\n",
    "print(list1[2])\n",
    "print(list1[:5])\n",
    "print(list1[-2:-5])\n",
    "print(list1[-5:-2])\n",
    "\n"
   ]
  },
  {
   "cell_type": "markdown",
   "id": "fa243b09-23ce-4fb1-a62b-920a9c23a898",
   "metadata": {},
   "source": [
    "### Eid Sweets Lists\n",
    "#### Create a list of eid sweets -5\n",
    "#### print three deserts from the list"
   ]
  },
  {
   "cell_type": "code",
   "execution_count": 80,
   "id": "75e36ebb-c0b8-4c38-8301-2bfd34dd6c31",
   "metadata": {},
   "outputs": [
    {
     "name": "stdout",
     "output_type": "stream",
     "text": [
      "['swaiyan', 'brownies', 'icecream']\n"
     ]
    }
   ],
   "source": [
    "eid_sweets = ['swaiyan','kheer','brownies','labesheerien','icecream']\n",
    "print(eid_sweets[0:5:2])"
   ]
  },
  {
   "cell_type": "code",
   "execution_count": 84,
   "id": "d96debb9-5600-4a5b-8cc6-e6f081b97fea",
   "metadata": {},
   "outputs": [
    {
     "name": "stdout",
     "output_type": "stream",
     "text": [
      "['biryani', 'roti', 'korma', 'haleem', 'desert']\n"
     ]
    }
   ],
   "source": [
    "feast = ['desert','haleem','korma','roti','biryani']\n",
    "print(feast[::-1])"
   ]
  },
  {
   "cell_type": "code",
   "execution_count": 100,
   "id": "f0722949-67e5-4d75-848b-66b60309a49a",
   "metadata": {},
   "outputs": [
    {
     "name": "stdout",
     "output_type": "stream",
     "text": [
      "['chocolates', 'money', 'books']\n"
     ]
    }
   ],
   "source": [
    "gifts = ['perfume','chocolates','toys','money','dates','books']\n",
    "print(gifts[1:6:2])"
   ]
  },
  {
   "cell_type": "code",
   "execution_count": 121,
   "id": "387fb65a-2f7b-46e7-bfe2-30bd6f7a613e",
   "metadata": {},
   "outputs": [
    {
     "name": "stdout",
     "output_type": "stream",
     "text": [
      "['making sweets', 'buying gifts']\n"
     ]
    }
   ],
   "source": [
    "eid_preps = ['Shopping','mehndi','decorating house','making sweets','buying gifts']\n",
    "print(eid_preps[-2:])"
   ]
  },
  {
   "cell_type": "markdown",
   "id": "cf9a485a-afd8-4ffc-b1a1-f3fe78bd87c3",
   "metadata": {},
   "source": [
    "## Grab last three Items"
   ]
  },
  {
   "cell_type": "code",
   "execution_count": 125,
   "id": "f6e8716d-3afb-4bad-a39a-6e97541a9e5d",
   "metadata": {},
   "outputs": [
    {
     "name": "stdout",
     "output_type": "stream",
     "text": [
      "['decorating house', 'making sweets', 'buying gifts']\n"
     ]
    }
   ],
   "source": [
    "eid_prep = ['clean house','decorate','buy clothes','cook','wrap gifts']\n",
    "print(eid_preps[-3:])"
   ]
  },
  {
   "cell_type": "markdown",
   "id": "542fd123-ae73-4a8e-93f9-2d96157f5e8b",
   "metadata": {},
   "source": [
    "## Get Main Course"
   ]
  },
  {
   "cell_type": "code",
   "execution_count": 139,
   "id": "bd8ee042-5441-4448-b2bf-ba15c3008522",
   "metadata": {},
   "outputs": [
    {
     "name": "stdout",
     "output_type": "stream",
     "text": [
      "['biryani', 'korma']\n"
     ]
    }
   ],
   "source": [
    "feast = ['dates','fruit chaat','biryani','korma','desert']\n",
    "main_course = feast[2:4]\n",
    "print(main_course)"
   ]
  },
  {
   "cell_type": "code",
   "execution_count": 143,
   "id": "3fb7c8dd-e4c9-4254-9160-1edb368328d4",
   "metadata": {},
   "outputs": [
    {
     "data": {
      "text/plain": [
       "([1, 2, 3], [1, 2, 3, 4, 5], [0, 1, 2, 3, 4, 5])"
      ]
     },
     "execution_count": 143,
     "metadata": {},
     "output_type": "execute_result"
    }
   ],
   "source": [
    "a = [1,2,3]\n",
    "b = a+[4,5]\n",
    "c = [0]+b\n",
    "a,b,c"
   ]
  },
  {
   "cell_type": "code",
   "execution_count": 163,
   "id": "4c66742d-a55a-4c5f-a78e-3e5cc98510fb",
   "metadata": {},
   "outputs": [
    {
     "name": "stdout",
     "output_type": "stream",
     "text": [
      "['you', 'are', 'learning', 'Advance Python', 35.5, False]\n"
     ]
    }
   ],
   "source": [
    "list3 = ['Data Science','Advance Python',35.5 , False]\n",
    "list3[0:1] = ['you' , 'are','learning']\n",
    "print(list3)"
   ]
  },
  {
   "cell_type": "code",
   "execution_count": 165,
   "id": "f033ade6-044f-4893-9538-227cbd3a7bd2",
   "metadata": {},
   "outputs": [
    {
     "name": "stdout",
     "output_type": "stream",
     "text": [
      "Help on built-in function append:\n",
      "\n",
      "append(object, /) method of builtins.list instance\n",
      "    Append object to the end of the list.\n",
      "\n"
     ]
    }
   ],
   "source": [
    "help(list3.append)"
   ]
  },
  {
   "cell_type": "code",
   "execution_count": 167,
   "id": "b627cc42-a2f8-4856-92ce-91e5d35fa9d1",
   "metadata": {},
   "outputs": [
    {
     "name": "stdout",
     "output_type": "stream",
     "text": [
      "['a', 'b', 'c', 'd', 'e', 'f', 'g', 'h', 'i', 4.6]\n",
      "['a', 'b', 'c', 'd', 'e', 'f', 'g', 'h', 'i', 4.6, 'Hello']\n"
     ]
    }
   ],
   "source": [
    "list4 = [2,4,6,8]\n",
    "list1.append(4.6)\n",
    "print(list1)\n",
    "list1.append('Hello')\n",
    "print(list1)"
   ]
  },
  {
   "cell_type": "code",
   "execution_count": 5,
   "id": "3ee53bd1-7c3a-4b15-986c-272dc4820c15",
   "metadata": {},
   "outputs": [
    {
     "name": "stdout",
     "output_type": "stream",
     "text": [
      "['Hell', ' W', 'rd']\n"
     ]
    }
   ],
   "source": [
    "str1 = 'Hello Word'\n",
    "print(str1.split('o'))\n",
    "#splitting on the bases of o"
   ]
  },
  {
   "cell_type": "code",
   "execution_count": 7,
   "id": "2aabb8af-acee-4d29-89f5-197a0d7e01a7",
   "metadata": {},
   "outputs": [
    {
     "name": "stdout",
     "output_type": "stream",
     "text": [
      "['123', '567890']\n"
     ]
    }
   ],
   "source": [
    "counting = '1234567890'\n",
    "print(counting.split('4'))\n",
    "spliting on the basis of 4"
   ]
  },
  {
   "cell_type": "code",
   "execution_count": 11,
   "id": "32f42411-67b7-4f78-a4f3-af8cab083bd1",
   "metadata": {},
   "outputs": [
    {
     "name": "stdout",
     "output_type": "stream",
     "text": [
      "['Th', 'r', \"'s a hug\", ' diff', 'r', 'nc', ' b', 'tw', '', 'n th', ' amarican ', 'nglish and unt', 'd ', 'nglish']\n"
     ]
    }
   ],
   "source": [
    "eng = 'There\\'s a huge difference between the amarican english and british english'\n",
    "unitd = eng.split('e')\n",
    "print(unitd)"
   ]
  },
  {
   "cell_type": "code",
   "execution_count": 17,
   "id": "5da3ec5c-60d5-4f27-a838-67f14911ba4f",
   "metadata": {},
   "outputs": [
    {
     "name": "stdout",
     "output_type": "stream",
     "text": [
      "T h e r e ' s   a   h u g e   d i f f e r e n c e   b e t w e e n   t h e   a m a r i c a n   e n g l i s h   a n d   u n t e d   e n g l i s h\n"
     ]
    }
   ],
   "source": [
    "delimitor = ' '\n",
    "list2 = delimitor.join(eng)\n",
    "print(list2)"
   ]
  },
  {
   "cell_type": "code",
   "execution_count": 31,
   "id": "3778c667-0a3a-44ec-9556-87b3f76352a5",
   "metadata": {},
   "outputs": [
    {
     "data": {
      "text/plain": [
       "\"T$h$e$r$e$'$s$ $a$ $h$u$g$e$ $d$i$f$f$e$r$e$n$c$e$ $b$e$t$w$e$e$n$ $t$h$e$ $a$m$a$r$i$c$a$n$ $e$n$g$l$i$s$h$ $a$n$d$ $u$n$t$e$d$ $e$n$g$l$i$s$h\""
      ]
     },
     "execution_count": 31,
     "metadata": {},
     "output_type": "execute_result"
    }
   ],
   "source": [
    "list2 = '$'.join(eng)\n",
    "list2"
   ]
  },
  {
   "cell_type": "code",
   "execution_count": 37,
   "id": "b0b9a0a0-0313-4a49-b035-3e48a1c194ef",
   "metadata": {},
   "outputs": [
    {
     "data": {
      "text/plain": [
       "72"
      ]
     },
     "execution_count": 37,
     "metadata": {},
     "output_type": "execute_result"
    }
   ],
   "source": [
    "len(eng)"
   ]
  },
  {
   "cell_type": "code",
   "execution_count": 51,
   "id": "32dce576-8c6f-46e1-9f17-ea368d8b9174",
   "metadata": {},
   "outputs": [
    {
     "name": "stdout",
     "output_type": "stream",
     "text": [
      "Length is: 5\n",
      "Max number is: 90\n",
      "Minimum number is: 22\n",
      "Sum is: 280\n"
     ]
    }
   ],
   "source": [
    "maths = [22,34,56,78,90]\n",
    "print(\"Length is:\",len(maths))\n",
    "print(\"Max number is:\",max(maths))\n",
    "print(\"Minimum number is:\",min(maths))\n",
    "print(\"Sum is:\",sum(maths))\n"
   ]
  },
  {
   "cell_type": "markdown",
   "id": "a8a4e286-5f35-49fa-99bb-55a635b8063c",
   "metadata": {},
   "source": [
    "#### Simple Assignment(alaising) vs Shallow Copy vs Deep Copy"
   ]
  },
  {
   "cell_type": "code",
   "execution_count": 75,
   "id": "57fb70d6-8d1c-426b-8ff1-8642b527937b",
   "metadata": {},
   "outputs": [
    {
     "name": "stdout",
     "output_type": "stream",
     "text": [
      "Ascending order [2, 3, 4, 5, 8, 9, 10]\n"
     ]
    }
   ],
   "source": [
    "num_list = [5,9,8,2,4,10,3]\n",
    "num_list.sort()\n",
    "print(\"Ascending order:\",num_list)"
   ]
  },
  {
   "cell_type": "code",
   "execution_count": 77,
   "id": "cabb9206-fe89-459f-84fe-ff9170deadac",
   "metadata": {},
   "outputs": [
    {
     "name": "stdout",
     "output_type": "stream",
     "text": [
      "Descending order: [10, 9, 8, 5, 4, 3, 2]\n"
     ]
    }
   ],
   "source": [
    "num_list = [5,9,8,2,4,10,3]\n",
    "num_list.sort(reverse = True)\n",
    "print(\"Descending order:\",num_list)"
   ]
  },
  {
   "cell_type": "code",
   "execution_count": 83,
   "id": "75ea3aeb-5a60-4bf6-9e1a-a4feab955337",
   "metadata": {},
   "outputs": [
    {
     "name": "stdout",
     "output_type": "stream",
     "text": [
      "['d', 'cc', 'bbb', 'aaaa']\n"
     ]
    }
   ],
   "source": [
    "string_list =['aaaa','bbb','cc','d']\n",
    "string_list.sort( key = len )\n",
    "print(string_list)"
   ]
  },
  {
   "cell_type": "code",
   "execution_count": 112,
   "id": "2799c65a-db49-4af1-aed2-143d1b4454c7",
   "metadata": {},
   "outputs": [
    {
     "name": "stdout",
     "output_type": "stream",
     "text": [
      "['zxya', 'csi', 'rpo', 'uvwz']\n"
     ]
    }
   ],
   "source": [
    "def last(s):\n",
    "    return s[-1]\n",
    "list5 = ['zxya','rpo','csi','uvwz']\n",
    "list5.sort(key=last)\n",
    "print(list5)\n",
    "    \n",
    "    "
   ]
  },
  {
   "cell_type": "markdown",
   "id": "6c0d7a66-3855-4272-a81c-51a66510afda",
   "metadata": {},
   "source": [
    "#### todoooww"
   ]
  },
  {
   "cell_type": "code",
   "execution_count": null,
   "id": "5d372861-59f3-47f5-829d-1145cb13429b",
   "metadata": {},
   "outputs": [],
   "source": []
  }
 ],
 "metadata": {
  "kernelspec": {
   "display_name": "Python 3 (ipykernel)",
   "language": "python",
   "name": "python3"
  },
  "language_info": {
   "codemirror_mode": {
    "name": "ipython",
    "version": 3
   },
   "file_extension": ".py",
   "mimetype": "text/x-python",
   "name": "python",
   "nbconvert_exporter": "python",
   "pygments_lexer": "ipython3",
   "version": "3.12.7"
  }
 },
 "nbformat": 4,
 "nbformat_minor": 5
}
