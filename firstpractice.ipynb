{
 "cells": [
  {
   "cell_type": "code",
   "execution_count": null,
   "id": "bb8ff5e2-a6a0-4b50-8833-7487d72824d1",
   "metadata": {},
   "outputs": [],
   "source": [
    "str1 = \"muqadas\"\n",
    "print(str1[::-1]) \n",
    "#print(str , reverse = True)\n",
    "print(\"first half upper:\" , str1.upper()[:5])\n",
    "#print(\"Remove:\" , str.Remove()[2]) # remove dose'nt exist in sring beacuse string is immutable\n",
    "#print(str.find('a', 'e', 'i' , 'o' ,'u'))# find takes at most three aurguments\n",
    "#print(str.find('a', 0 , 4))\n"
   ]
  },
  {
   "cell_type": "code",
   "execution_count": null,
   "id": "a9f3a827-ff3e-4669-9a30-085e3632e3d7",
   "metadata": {},
   "outputs": [],
   "source": [
    "word = 'girls'\n",
    "print(word.find('r'))#finds indexes"
   ]
  },
  {
   "cell_type": "code",
   "execution_count": null,
   "id": "712984d7-450c-4627-b7e0-fb86cd87500c",
   "metadata": {},
   "outputs": [],
   "source": [
    "\n",
    "num = '49'\n",
    "print(num)\n",
    "print(type(num))\n",
    "\n"
   ]
  },
  {
   "cell_type": "code",
   "execution_count": null,
   "id": "9cc58c6e-98b4-4fb3-8ff0-91054b5e1dc7",
   "metadata": {},
   "outputs": [],
   "source": [
    "name = \"Muqadas\"\n",
    "print(name.replace('a' , 'k'))"
   ]
  },
  {
   "cell_type": "code",
   "execution_count": null,
   "id": "68d76ea8-6bcf-4298-8211-71ee6bc4b91b",
   "metadata": {},
   "outputs": [],
   "source": [
    "name = 'muqadas'\n",
    "print('a' in name or  'e' in name or 'i' in name or 'o' in name or 'u' in name )\n"
   ]
  },
  {
   "cell_type": "code",
   "execution_count": null,
   "id": "6a1400a6-0fe1-482e-b24d-7b592b9996c1",
   "metadata": {},
   "outputs": [],
   "source": [
    "#vowels = ['a','e','i','o','u']\n",
    " # this is ilogical ,\n",
    "#'muqadas' in vowels"
   ]
  },
  {
   "cell_type": "code",
   "execution_count": null,
   "id": "ee9dc0ab-7a25-414e-92ed-67549ddff9b3",
   "metadata": {},
   "outputs": [],
   "source": [
    "my_name = 'muqadas shehzadi'\n",
    "print(my_name.title())\n"
   ]
  },
  {
   "cell_type": "code",
   "execution_count": null,
   "id": "1aab7166-9432-4918-965d-189de61b5e13",
   "metadata": {},
   "outputs": [],
   "source": [
    "my_name1 = 'muqadas'\n",
    "#print(my_name1.Remove()[:1]) remove is not exist in strings"
   ]
  },
  {
   "cell_type": "code",
   "execution_count": null,
   "id": "bdfc1392-a5be-4372-8697-bb85b1429259",
   "metadata": {},
   "outputs": [],
   "source": [
    "first_name = 'muqadas'\n",
    "palindrome = (first_name[::-1])\n",
    "\n",
    "if(first_name == palindrome):\n",
    "    print('yes palindrome exists')\n",
    "else:\n",
    "    #print('palindrome not exists')\n",
    "    print('does\\'nt exist ')\n",
    "    \n",
    "\n"
   ]
  },
  {
   "cell_type": "code",
   "execution_count": null,
   "id": "0cfb0080-11bd-468a-b598-3e4f72e8d399",
   "metadata": {},
   "outputs": [],
   "source": [
    "var ='Madam'\n",
    "palindrome =  var[::-1]\n",
    "var.lower() == palindrome.lower()\n",
    "\n",
    "\n"
   ]
  }
 ],
 "metadata": {
  "kernelspec": {
   "display_name": "Python 3 (ipykernel)",
   "language": "python",
   "name": "python3"
  },
  "language_info": {
   "codemirror_mode": {
    "name": "ipython",
    "version": 3
   },
   "file_extension": ".py",
   "mimetype": "text/x-python",
   "name": "python",
   "nbconvert_exporter": "python",
   "pygments_lexer": "ipython3",
   "version": "3.12.7"
  }
 },
 "nbformat": 4,
 "nbformat_minor": 5
}
