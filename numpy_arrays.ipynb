{
 "cells": [
  {
   "cell_type": "code",
   "execution_count": 7,
   "id": "13c1dcfd-97b8-4ee4-aef1-66a018009182",
   "metadata": {},
   "outputs": [
    {
     "name": "stdout",
     "output_type": "stream",
     "text": [
      "Original matrix: [7 7 7 7]\n",
      "Addition: [9 9 9 9]\n",
      "Subtraction: [5 5 5 5]\n",
      "Multiplication: [14 14 14 14]\n"
     ]
    }
   ],
   "source": [
    "import numpy as np\n",
    "matrix = np.random.randint(1,10,size=4)\n",
    "print(\"Original matrix:\", matrix)\n",
    "print(\"Addition:\",matrix+2)\n",
    "print(\"Subtraction:\",matrix-2)\n",
    "print(\"Multiplication:\",matrix*2)\n",
    "\n"
   ]
  },
  {
   "cell_type": "code",
   "execution_count": 16,
   "id": "1382fa3c-572a-4a25-97e1-74a7a7f15f6b",
   "metadata": {},
   "outputs": [
    {
     "name": "stdout",
     "output_type": "stream",
     "text": [
      "Addition:\n",
      " [[15 10]\n",
      " [24 17]]\n",
      "Subtraction:\n",
      " [[ -5  -6]\n",
      " [-12 -13]]\n",
      "Multiplication:\n",
      " [[ 50  16]\n",
      " [108  30]]\n"
     ]
    }
   ],
   "source": [
    "import numpy as np\n",
    "array1 = np.random.randint(1,10 ,size = (2,2))\n",
    "array2 = np.random.randint(1,20 ,size = (2,2))\n",
    "print(\"Addition:\\n\",array1 + array2)\n",
    "print(\"Subtraction:\\n\",array1 - array2)\n",
    "print(\"Multiplication:\\n\",array1 * array2)"
   ]
  },
  {
   "cell_type": "markdown",
   "id": "5e76436b-98a3-4d71-85d0-df74599e03c2",
   "metadata": {},
   "source": [
    "### mathematical operation"
   ]
  },
  {
   "cell_type": "code",
   "execution_count": 25,
   "id": "14332ef3-d251-4fa0-8f25-239a6dd7ad4d",
   "metadata": {},
   "outputs": [
    {
     "name": "stdout",
     "output_type": "stream",
     "text": [
      "sum: 66\n",
      "max: 8\n",
      "min: 1\n",
      "min: 387072000\n"
     ]
    }
   ],
   "source": [
    "import numpy as np\n",
    "array1 = np.random.randint(1,10 ,size = (4,4))\n",
    "print(\"sum:\",np.sum(array1))\n",
    "print(\"max:\",np.max(array1))\n",
    "print(\"min:\",np.min(array1))\n",
    "print(\"min:\",np.prod(array1))\n"
   ]
  },
  {
   "cell_type": "code",
   "execution_count": 29,
   "id": "63ebfe23-1809-4e16-b130-39ad6f0e2715",
   "metadata": {},
   "outputs": [
    {
     "name": "stdout",
     "output_type": "stream",
     "text": [
      "[1 2 3 4 5]\n",
      "[4 3 2 1]\n"
     ]
    },
    {
     "ename": "TypeError",
     "evalue": "average() got an unexpected keyword argument 'weight'",
     "output_type": "error",
     "traceback": [
      "\u001b[1;31m---------------------------------------------------------------------------\u001b[0m",
      "\u001b[1;31mTypeError\u001b[0m                                 Traceback (most recent call last)",
      "Cell \u001b[1;32mIn[29], line 5\u001b[0m\n\u001b[0;32m      3\u001b[0m \u001b[38;5;28mprint\u001b[39m(arr)\n\u001b[0;32m      4\u001b[0m \u001b[38;5;28mprint\u001b[39m(wts)\n\u001b[1;32m----> 5\u001b[0m \u001b[38;5;28mprint\u001b[39m(np\u001b[38;5;241m.\u001b[39maverage(arr,weight\u001b[38;5;241m=\u001b[39mwts))\n",
      "\u001b[1;31mTypeError\u001b[0m: average() got an unexpected keyword argument 'weight'"
     ]
    }
   ],
   "source": [
    "# arr = np.array([1,2,3,4,5])\n",
    "# wts = np.array([4,3,2,1])\n",
    "# print(arr)\n",
    "# print(wts)\n",
    "# print(np.average(arr,weight=wts))"
   ]
  },
  {
   "cell_type": "code",
   "execution_count": 36,
   "id": "eb83d91c-875c-450b-86ef-ee8fd3dd0a39",
   "metadata": {},
   "outputs": [
    {
     "name": "stdout",
     "output_type": "stream",
     "text": [
      "[50. 50. 50. 50. 50.]\n",
      "2.0\n",
      "1.4142135623730951\n"
     ]
    }
   ],
   "source": [
    "arr = np.array([1,2,3,4,5])\n",
    "print(np.percentile(50 ,arr))\n",
    "print(np.var(arr))\n",
    "print(np.std(arr))"
   ]
  },
  {
   "cell_type": "code",
   "execution_count": 41,
   "id": "d043c521-d512-4209-90f6-af5e6cb9f8c2",
   "metadata": {},
   "outputs": [
    {
     "name": "stdout",
     "output_type": "stream",
     "text": [
      "[[4 2 6]\n",
      " [9 4 4]\n",
      " [8 9 9]]\n",
      "Sum of columns: [21 15 19]\n",
      "Sum of rows: [12 17 26]\n"
     ]
    }
   ],
   "source": [
    "import numpy as np\n",
    "matrix = np.random.randint(1,10,size=(3,3))\n",
    "print(matrix)\n",
    "print(\"Sum of columns:\",np.sum(matrix,axis=0))\n",
    "print(\"Sum of rows:\",np.sum(matrix,axis=1))"
   ]
  },
  {
   "cell_type": "code",
   "execution_count": 48,
   "id": "602490fa-2bdb-45f1-801a-5623a88f9c1d",
   "metadata": {},
   "outputs": [
    {
     "name": "stdout",
     "output_type": "stream",
     "text": [
      "[6 7]\n",
      "[4 1]\n",
      "[False False]\n",
      "[ True  True]\n"
     ]
    }
   ],
   "source": [
    "arr1 = np.random.randint(1,10,size=(2))\n",
    "arr2 = np.random.randint(1,10,size=(2))\n",
    "print(arr1)\n",
    "print(arr2)\n",
    "print(np.equal(arr1,arr2))\n",
    "print(np.not_equal(arr1,arr2))\n",
    "\n"
   ]
  },
  {
   "cell_type": "code",
   "execution_count": 50,
   "id": "88e7d65c-55f9-4355-9150-e0bb471ff221",
   "metadata": {},
   "outputs": [
    {
     "name": "stdout",
     "output_type": "stream",
     "text": [
      "(array([3, 4, 5, 6, 7, 8], dtype=int64),)\n"
     ]
    }
   ],
   "source": [
    "arr = np.array([1,2,3,4,4,4,4,4,4])\n",
    "t1 = np.where(arr == 4)\n",
    "print(t1)"
   ]
  },
  {
   "cell_type": "code",
   "execution_count": 51,
   "id": "0a6717c8-57fe-4886-96e8-0cb8285a81f7",
   "metadata": {},
   "outputs": [
    {
     "name": "stdout",
     "output_type": "stream",
     "text": [
      "[ True False  True False False False False False False]\n"
     ]
    }
   ],
   "source": [
    "arr = np.array([1,2,3,4,4,4,4,4,4])\n",
    "t1 = np.where(arr%2==1,True , False)\n",
    "print(t1)"
   ]
  },
  {
   "cell_type": "code",
   "execution_count": 53,
   "id": "900d69a6-3da1-4725-b590-3f9c24689417",
   "metadata": {},
   "outputs": [
    {
     "name": "stdout",
     "output_type": "stream",
     "text": [
      "[ True False]\n"
     ]
    }
   ],
   "source": [
    "arr = np.random.randint(1,10,size=2)\n",
    "t1 = np.where(arr%2==1 , True , False)\n",
    "print(t1)"
   ]
  },
  {
   "cell_type": "code",
   "execution_count": 74,
   "id": "4f067368-37df-4044-a324-a20787acaa13",
   "metadata": {},
   "outputs": [
    {
     "name": "stdout",
     "output_type": "stream",
     "text": [
      "Actual matrix:\n",
      " [[9 4 2 4 8]\n",
      " [3 8 9 4 6]\n",
      " [1 9 6 9 6]\n",
      " [7 1 9 9 9]\n",
      " [9 5 3 3 2]]\n",
      "Reverse of row:\n",
      " [[9 5 3 3 2]\n",
      " [7 1 9 9 9]\n",
      " [1 9 6 9 6]\n",
      " [3 8 9 4 6]\n",
      " [9 4 2 4 8]]\n",
      "Reverse of row:\n",
      " [[1 6 6]\n",
      " [9 3 2]]\n"
     ]
    }
   ],
   "source": [
    "array1 = np.random.randint(1,10,size=(5,5))\n",
    "print(\"Actual matrix:\\n\",array1)\n",
    "# print(\"Reverse of a row:\",array1[:1,::-1])     \n",
    "print(\"Reverse of row:\\n\",array1[::-1,:])     \n",
    "print(\"Reverse of row:\\n\",array1[2::2,0::2])    "
   ]
  },
  {
   "cell_type": "code",
   "execution_count": null,
   "id": "8bc9c427-b162-4bfd-9259-234fe9b6aa09",
   "metadata": {},
   "outputs": [],
   "source": [
    "4\n",
    "7349\n",
    "3\n",
    "2\n",
    "3241\n",
    "24\n",
    "7. reverse of rows\n",
    "22"
   ]
  },
  {
   "cell_type": "code",
   "execution_count": 2,
   "id": "a3e2a9f6-71b5-400d-ad59-243ffa5e6bb3",
   "metadata": {},
   "outputs": [
    {
     "name": "stdout",
     "output_type": "stream",
     "text": [
      "[ 92  71  35  17 100  99  36  84   1  12]\n",
      "[ 92 100  84]\n"
     ]
    }
   ],
   "source": [
    "import numpy as np\n",
    "arr = np.random.randint(1,101, size = 10)\n",
    "print(arr)\n",
    "print(arr[(arr%2==0) & (arr>50)])"
   ]
  },
  {
   "cell_type": "code",
   "execution_count": 12,
   "id": "21b2378c-d5f9-456b-9f29-049dcd530b3b",
   "metadata": {},
   "outputs": [
    {
     "name": "stdout",
     "output_type": "stream",
     "text": [
      "Original Rows\n",
      " [[19  3 25 34  3]\n",
      " [32 23 36 24  7]\n",
      " [19 18 46 36  5]\n",
      " [29 26 16 34 41]\n",
      " [ 3 10 20 24 19]]\n",
      "masked rows\n",
      " [[19 25 34]\n",
      " [32 36 24]\n",
      " [19 46 36]\n",
      " [29 16 34]\n",
      " [ 3 20 24]]\n"
     ]
    }
   ],
   "source": [
    "matrix1 = np.random.randint(1,50,size = (5,5))\n",
    "print(\"Original Rows\\n\",matrix1)\n",
    "mask = [\n",
    "    True,\n",
    "    False,\n",
    "    True,\n",
    "    True,\n",
    "    False\n",
    "]\n",
    "arr2 = matrix1[mask]\n",
    "print(\"masked rows\\n\",arr2)"
   ]
  },
  {
   "cell_type": "code",
   "execution_count": 30,
   "id": "922347c4-ef31-4cd1-acbb-42bc2b7b187e",
   "metadata": {},
   "outputs": [
    {
     "name": "stdout",
     "output_type": "stream",
     "text": [
      "Original Rows:\n",
      " [[30 19  5  4 23]\n",
      " [26 17 39  8 48]\n",
      " [ 5 38 38 22 33]\n",
      " [16 29  4 14 24]\n",
      " [38 41 45 25 10]]\n",
      "masked columns:\n",
      " [[17 39  8]\n",
      " [38 38 22]\n",
      " [29  4 14]]\n"
     ]
    }
   ],
   "source": [
    "matrix1 = np.random.randint(1,50,size = (5,5))\n",
    "print(\"Original Rows:\\n\",matrix1)\n",
    "mask = [\n",
    "    False,\n",
    "    True,\n",
    "    True,\n",
    "    True,\n",
    "    False\n",
    "]\n",
    "arr2 = matrix1[mask][:,mask]\n",
    "print(\"masked columns:\\n\",arr2)"
   ]
  },
  {
   "cell_type": "code",
   "execution_count": null,
   "id": "c5384366-b2e1-45bc-9b1f-5cfb8242317f",
   "metadata": {},
   "outputs": [],
   "source": []
  }
 ],
 "metadata": {
  "kernelspec": {
   "display_name": "Python 3 (ipykernel)",
   "language": "python",
   "name": "python3"
  },
  "language_info": {
   "codemirror_mode": {
    "name": "ipython",
    "version": 3
   },
   "file_extension": ".py",
   "mimetype": "text/x-python",
   "name": "python",
   "nbconvert_exporter": "python",
   "pygments_lexer": "ipython3",
   "version": "3.12.7"
  }
 },
 "nbformat": 4,
 "nbformat_minor": 5
}
