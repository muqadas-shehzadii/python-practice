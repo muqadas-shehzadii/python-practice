{
 "cells": [
  {
   "cell_type": "markdown",
   "id": "4e8d6395-e3af-40eb-a8d9-0a6b2e3446fe",
   "metadata": {},
   "source": [
    "# Assingment "
   ]
  },
  {
   "cell_type": "markdown",
   "id": "1684b223-57b0-4b5b-90b5-98b77152ab0a",
   "metadata": {},
   "source": [
    "#### split string after first comma\n"
   ]
  },
  {
   "cell_type": "code",
   "execution_count": 45,
   "id": "96747fdf-1fc5-4ff2-b527-6e9293749d9c",
   "metadata": {},
   "outputs": [
    {
     "name": "stdout",
     "output_type": "stream",
     "text": [
      "['Hello', ' I am muqadas']\n"
     ]
    }
   ],
   "source": [
    "var = 'Hello, I am muqadas'\n",
    "result = var.split(',' , 1)\n",
    "print(result)"
   ]
  },
  {
   "cell_type": "markdown",
   "id": "688b79ed-db3e-408f-af5c-4f06194bd662",
   "metadata": {},
   "source": [
    "#### create two variables and apply all math operations"
   ]
  },
  {
   "cell_type": "code",
   "execution_count": 54,
   "id": "81cf8270-e68d-4990-b9c7-0c5d7337ac36",
   "metadata": {},
   "outputs": [
    {
     "name": "stdout",
     "output_type": "stream",
     "text": [
      "plus:  22\n",
      "minus:  18\n",
      "multiply:  40\n",
      "division:  10.0\n",
      "floor divison:  10\n",
      "power of:  400\n",
      "modulus:  0\n"
     ]
    }
   ],
   "source": [
    "var = 20\n",
    "var_1 = 2\n",
    "print('plus: ', var + var_1)\n",
    "print('minus: ' ,var - var_1)\n",
    "print('multiply: ',var * var_1)\n",
    "print('division: ' ,var / var_1)\n",
    "print('floor divison: ',var // var_1)\n",
    "print('power of: ' ,var ** var_1)\n",
    "print('modulus: ',var % var_1)"
   ]
  },
  {
   "cell_type": "markdown",
   "id": "fb8619cf-b9a7-486c-bef4-194fa7eada2b",
   "metadata": {},
   "source": [
    "#### calculate the area of the circle"
   ]
  },
  {
   "cell_type": "code",
   "execution_count": 47,
   "id": "96212e04-e172-4b55-82c3-b17ade76bd92",
   "metadata": {},
   "outputs": [
    {
     "name": "stdout",
     "output_type": "stream",
     "text": [
      "Area of a circle 25.12\n"
     ]
    }
   ],
   "source": [
    "radius = 4\n",
    "area_of_circle = 2*3.14*4\n",
    "print('Area of a circle', area_of_circle)\n"
   ]
  },
  {
   "cell_type": "markdown",
   "id": "4f355d55-7299-464d-9502-080194a7ae58",
   "metadata": {},
   "source": [
    "#### convert temperature ( celcius to fahrenheit)"
   ]
  },
  {
   "cell_type": "code",
   "execution_count": 144,
   "id": "40504c07-a93d-4095-ae92-3086229ce0c1",
   "metadata": {},
   "outputs": [
    {
     "name": "stdout",
     "output_type": "stream",
     "text": [
      "temprature converted  celcius to fahrenheit 73.4 F\n"
     ]
    }
   ],
   "source": [
    "cel = 23\n",
    "far=(cel*9/5)+32\n",
    "print('temprature converted  celcius to fahrenheit', far,'F')"
   ]
  },
  {
   "cell_type": "markdown",
   "id": "99fb16f9-2784-4b2a-9f24-f6344f531983",
   "metadata": {},
   "source": [
    "#### check if two numbers are equal"
   ]
  },
  {
   "cell_type": "code",
   "execution_count": 59,
   "id": "db5b675d-2ff5-461d-99b1-598704786c0f",
   "metadata": {},
   "outputs": [
    {
     "name": "stdout",
     "output_type": "stream",
     "text": [
      "a is equal to b\n"
     ]
    }
   ],
   "source": [
    "a = 5\n",
    "b = 5\n",
    "if a == b:\n",
    "    print('a is equal to b')\n",
    "else:\n",
    "    print('a is not aqual to be')"
   ]
  },
  {
   "cell_type": "code",
   "execution_count": 61,
   "id": "ddc6d99e-e12a-4585-b242-ff782e8186d0",
   "metadata": {},
   "outputs": [
    {
     "data": {
      "text/plain": [
       "False"
      ]
     },
     "execution_count": 61,
     "metadata": {},
     "output_type": "execute_result"
    }
   ],
   "source": [
    "a = 7\n",
    "b = 8\n",
    "a == b"
   ]
  },
  {
   "cell_type": "markdown",
   "id": "1245902b-c035-462e-95c7-6febb218aa5f",
   "metadata": {},
   "source": [
    "#### Check two strings are equal"
   ]
  },
  {
   "cell_type": "code",
   "execution_count": 82,
   "id": "07af0b9a-2afb-43db-b671-84663a1276fa",
   "metadata": {},
   "outputs": [
    {
     "data": {
      "text/plain": [
       "True"
      ]
     },
     "execution_count": 82,
     "metadata": {},
     "output_type": "execute_result"
    }
   ],
   "source": [
    "string1 = 'hello World'\n",
    "string2 = 'Hello WorLd'\n",
    "string1.lower() == string2.lower()\n",
    "\n",
    "\n"
   ]
  },
  {
   "cell_type": "code",
   "execution_count": 74,
   "id": "72f240ce-9844-4236-a49a-075cc7ece5f5",
   "metadata": {},
   "outputs": [
    {
     "name": "stdout",
     "output_type": "stream",
     "text": [
      "both strings are different\n"
     ]
    }
   ],
   "source": [
    "string3 = 'i am learning python'\n",
    "string4  = 'mam is here to asist us'\n",
    "if string3 == string4:\n",
    "    print('both strings are same')\n",
    "else:\n",
    "    print('both strings are different')"
   ]
  },
  {
   "cell_type": "markdown",
   "id": "7edd2566-33da-4f61-bffc-7342dfddb64b",
   "metadata": {},
   "source": [
    "#### find a greater number in a list\n"
   ]
  },
  {
   "cell_type": "code",
   "execution_count": 88,
   "id": "53434256-1502-4d9d-a5b4-374974f19b1f",
   "metadata": {},
   "outputs": [],
   "source": [
    "list_1 = ['a' , 'A' , 5 ,4 , 'T' , 't']\n",
    "#find method is not available in lists"
   ]
  },
  {
   "cell_type": "markdown",
   "id": "487deeeb-b5a8-441f-90eb-5e5add833dce",
   "metadata": {},
   "source": [
    "#### check if the the number is greater than or equal to anther"
   ]
  },
  {
   "cell_type": "code",
   "execution_count": 91,
   "id": "0a665f30-83b9-4204-b3d7-026e561b2521",
   "metadata": {},
   "outputs": [
    {
     "data": {
      "text/plain": [
       "False"
      ]
     },
     "execution_count": 91,
     "metadata": {},
     "output_type": "execute_result"
    }
   ],
   "source": [
    "a = 5\n",
    "b = 6\n",
    "a >= b"
   ]
  },
  {
   "cell_type": "markdown",
   "id": "152a2ca0-fc02-4d96-aa83-801ca2349ea8",
   "metadata": {},
   "source": [
    "#### compare user age for voting eligibility\n"
   ]
  },
  {
   "cell_type": "code",
   "execution_count": 98,
   "id": "7c3769da-d19d-46b3-b279-491c63e28a40",
   "metadata": {},
   "outputs": [
    {
     "data": {
      "text/plain": [
       "False"
      ]
     },
     "execution_count": 98,
     "metadata": {},
     "output_type": "execute_result"
    }
   ],
   "source": [
    "user1_age = 23\n",
    "user2_age = 34\n",
    "elegibity = 22\n",
    "user1_age == elegibity\n",
    "user2_age == elegibity"
   ]
  },
  {
   "cell_type": "markdown",
   "id": "d5733f2f-7878-4831-9351-4a4b2007ca88",
   "metadata": {},
   "source": [
    "#### check if two lists are equal"
   ]
  },
  {
   "cell_type": "code",
   "execution_count": 101,
   "id": "fcad4803-ade7-4f7d-8af4-6f020039caeb",
   "metadata": {},
   "outputs": [
    {
     "data": {
      "text/plain": [
       "False"
      ]
     },
     "execution_count": 101,
     "metadata": {},
     "output_type": "execute_result"
    }
   ],
   "source": [
    "list_1 = [1,2,3,'a','b','c']\n",
    "list_2 = [4,5,6,'d','e','f']\n",
    "list_1 == list_2\n",
    "#prints false due to different elements in lists"
   ]
  },
  {
   "cell_type": "code",
   "execution_count": 107,
   "id": "60f9e232-c892-46cd-82cc-d07972272e4d",
   "metadata": {},
   "outputs": [
    {
     "data": {
      "text/plain": [
       "True"
      ]
     },
     "execution_count": 107,
     "metadata": {},
     "output_type": "execute_result"
    }
   ],
   "source": [
    "list_1 = [1,2,3,'a','b','c']\n",
    "list_2 = [1,2,3,'a','b','c']\n",
    "list_1 == list_2\n",
    "#prints true due to same elements in lists"
   ]
  },
  {
   "cell_type": "code",
   "execution_count": 111,
   "id": "bf1161c1-26e2-4471-b981-7af34ed19d83",
   "metadata": {},
   "outputs": [
    {
     "data": {
      "text/plain": [
       "False"
      ]
     },
     "execution_count": 111,
     "metadata": {},
     "output_type": "execute_result"
    }
   ],
   "source": [
    "list_1 = [1,2,3,'a','b','c']\n",
    "list_2 = [1,2,3,'a','b','c','d']\n",
    "list_1 == list_2\n",
    "#prints false due to length of list"
   ]
  },
  {
   "cell_type": "markdown",
   "id": "b4730f15-ae5d-4a3c-a477-3a3fce991195",
   "metadata": {},
   "source": [
    "#### check if a number is between 2 values"
   ]
  },
  {
   "cell_type": "code",
   "execution_count": 116,
   "id": "4c77fcc9-0c43-4d7d-8ec7-190c1f518c04",
   "metadata": {},
   "outputs": [
    {
     "ename": "TypeError",
     "evalue": "argument of type 'int' is not iterable",
     "output_type": "error",
     "traceback": [
      "\u001b[1;31m---------------------------------------------------------------------------\u001b[0m",
      "\u001b[1;31mTypeError\u001b[0m                                 Traceback (most recent call last)",
      "Cell \u001b[1;32mIn[116], line 2\u001b[0m\n\u001b[0;32m      1\u001b[0m num \u001b[38;5;241m=\u001b[39m \u001b[38;5;241m12345\u001b[39m\n\u001b[1;32m----> 2\u001b[0m \u001b[38;5;241m2\u001b[39m \u001b[38;5;129;01min\u001b[39;00m num\n",
      "\u001b[1;31mTypeError\u001b[0m: argument of type 'int' is not iterable"
     ]
    }
   ],
   "source": [
    "num = 12345\n",
    "2 in num\n",
    "# int data type is not iterable\n"
   ]
  },
  {
   "cell_type": "code",
   "execution_count": 120,
   "id": "2ea21921-a463-46ea-b71e-c4b29d3b4f78",
   "metadata": {},
   "outputs": [
    {
     "name": "stdout",
     "output_type": "stream",
     "text": [
      "True\n"
     ]
    }
   ],
   "source": [
    "var = 'Muqadas'\n",
    "print('u' in var)\n",
    "#strings are iterable"
   ]
  },
  {
   "cell_type": "code",
   "execution_count": 126,
   "id": "28fd2f3c-c382-4265-977b-59953e99a3bd",
   "metadata": {},
   "outputs": [
    {
     "name": "stdout",
     "output_type": "stream",
     "text": [
      "True\n"
     ]
    }
   ],
   "source": [
    "list_3 = [1,2,3,4, 5,'a','b','c','d']\n",
    "print(1 in list_3 )\n",
    "#lists are iterable even in integr case"
   ]
  },
  {
   "cell_type": "code",
   "execution_count": 136,
   "id": "6850c954-28b2-4227-890b-691449823813",
   "metadata": {},
   "outputs": [
    {
     "name": "stdout",
     "output_type": "stream",
     "text": [
      "The number is not between two values\n"
     ]
    }
   ],
   "source": [
    "num = 21\n",
    "if num > 10 and num < 20:\n",
    "    print('yes number is between two values ')\n",
    "else:\n",
    "    print('The number is not between two values' )\n",
    "    "
   ]
  },
  {
   "cell_type": "code",
   "execution_count": null,
   "id": "51d142c5-d378-446c-bfb9-8c3c5b7a8898",
   "metadata": {},
   "outputs": [],
   "source": []
  }
 ],
 "metadata": {
  "kernelspec": {
   "display_name": "Python 3 (ipykernel)",
   "language": "python",
   "name": "python3"
  },
  "language_info": {
   "codemirror_mode": {
    "name": "ipython",
    "version": 3
   },
   "file_extension": ".py",
   "mimetype": "text/x-python",
   "name": "python",
   "nbconvert_exporter": "python",
   "pygments_lexer": "ipython3",
   "version": "3.12.7"
  }
 },
 "nbformat": 4,
 "nbformat_minor": 5
}
