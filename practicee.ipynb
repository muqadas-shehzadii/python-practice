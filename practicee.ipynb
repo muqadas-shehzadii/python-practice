{
 "cells": [
  {
   "cell_type": "code",
   "execution_count": 23,
   "id": "1cfe62a1-be46-4b81-a42e-a7483cc8ee3c",
   "metadata": {},
   "outputs": [
    {
     "name": "stdout",
     "output_type": "stream",
     "text": [
      "f\n",
      "l\n",
      "o\n",
      "w\n",
      "e\n",
      "r\n"
     ]
    },
    {
     "ename": "IndexError",
     "evalue": "list index out of range",
     "output_type": "error",
     "traceback": [
      "\u001b[1;31m---------------------------------------------------------------------------\u001b[0m",
      "\u001b[1;31mIndexError\u001b[0m                                Traceback (most recent call last)",
      "Cell \u001b[1;32mIn[23], line 9\u001b[0m\n\u001b[0;32m      4\u001b[0m         \u001b[38;5;28mprint\u001b[39m(i)\n\u001b[0;32m      8\u001b[0m longestCommonPrefix([\u001b[38;5;124m'\u001b[39m\u001b[38;5;124mflower\u001b[39m\u001b[38;5;124m'\u001b[39m,\u001b[38;5;124m'\u001b[39m\u001b[38;5;124mflow\u001b[39m\u001b[38;5;124m'\u001b[39m,\u001b[38;5;124m'\u001b[39m\u001b[38;5;124mfloat\u001b[39m\u001b[38;5;124m'\u001b[39m])\n\u001b[1;32m----> 9\u001b[0m longestCommonPrefix([])\n\u001b[0;32m     10\u001b[0m longestCommonPrefix([\u001b[38;5;124m'\u001b[39m\u001b[38;5;124mdog\u001b[39m\u001b[38;5;124m'\u001b[39m,\u001b[38;5;124m'\u001b[39m\u001b[38;5;124mcat\u001b[39m\u001b[38;5;124m'\u001b[39m,\u001b[38;5;124m'\u001b[39m\u001b[38;5;124mracecar\u001b[39m\u001b[38;5;124m'\u001b[39m])\n",
      "Cell \u001b[1;32mIn[23], line 2\u001b[0m, in \u001b[0;36mlongestCommonPrefix\u001b[1;34m(strs)\u001b[0m\n\u001b[0;32m      1\u001b[0m \u001b[38;5;28;01mdef\u001b[39;00m \u001b[38;5;21mlongestCommonPrefix\u001b[39m(strs):\n\u001b[1;32m----> 2\u001b[0m     prefix \u001b[38;5;241m=\u001b[39m strs[\u001b[38;5;241m0\u001b[39m]\n\u001b[0;32m      3\u001b[0m     \u001b[38;5;28;01mfor\u001b[39;00m i \u001b[38;5;129;01min\u001b[39;00m strs[\u001b[38;5;241m0\u001b[39m]:\n\u001b[0;32m      4\u001b[0m         \u001b[38;5;28mprint\u001b[39m(i)\n",
      "\u001b[1;31mIndexError\u001b[0m: list index out of range"
     ]
    }
   ],
   "source": [
    "def longestCommonPrefix(strs):\n",
    "    prefix = strs[0]\n",
    "    for i in strsc:\n",
    "        print(i)\n",
    "        \n",
    "\t\n",
    "                \n",
    "longestCommonPrefix(['flower','flow','float'])\n",
    "longestCommonPrefix([])\n",
    "longestCommonPrefix(['dog','cat','racecar'])\n"
   ]
  },
  {
   "cell_type": "code",
   "execution_count": 29,
   "id": "be827e6f-d5bf-4dea-9907-c1d53c0444e4",
   "metadata": {},
   "outputs": [
    {
     "ename": "IndentationError",
     "evalue": "unexpected indent (2110798924.py, line 2)",
     "output_type": "error",
     "traceback": [
      "\u001b[1;36m  Cell \u001b[1;32mIn[29], line 2\u001b[1;36m\u001b[0m\n\u001b[1;33m    if 200 >= len(strs)>=1:\u001b[0m\n\u001b[1;37m    ^\u001b[0m\n\u001b[1;31mIndentationError\u001b[0m\u001b[1;31m:\u001b[0m unexpected indent\n"
     ]
    }
   ],
   "source": [
    "\n",
    "prefix = strs[0]\n",
    "    if 200 >= len(strs)>=1:\n",
    "        prefix = strs[0] \n",
    "        for i in strs[1:]:\n",
    "            if 200>=len(strs)>=0:\n",
    "                while not i.startswith(prefix):\n",
    "                    prefix = prefix[:-1]\n",
    "                    if not prefix:\n",
    "                        return \"\"\n",
    "                    else:\n",
    "                        print(\"not enough length:\")\n",
    "            return prefix\n",
    "        else:\n",
    "            print(\"Not acceptable length:\")\n",
    "            # strs[0] is flower or the first string element in the loop\n",
    "                \n",
    "longestCommonPrefix(['flower','flow','float'])\n",
    "longestCommonPrefix([])\n",
    "longestCommonPrefix(['dog','cat','racecar']"
   ]
  },
  {
   "cell_type": "code",
   "execution_count": 31,
   "id": "19a5dd80-8d04-4ad6-86ec-58f5382aa764",
   "metadata": {},
   "outputs": [
    {
     "name": "stdout",
     "output_type": "stream",
     "text": [
      "Not enough length:\n",
      "Not enough length:\n",
      "Not enough length:\n",
      "flo\n",
      "Not acceptable length:\n",
      "\n",
      "Not enough length:\n",
      "Not enough length:\n",
      "\n"
     ]
    }
   ],
   "source": [
    "def longestCommonPrefix(strs):\n",
    "    if 1 <= len(strs) <= 200:\n",
    "        prefix = strs[0]\n",
    "        for i in strs[0:]:\n",
    "            if 0 <= len(strs) <= 200:\n",
    "                while not i.startswith(prefix):\n",
    "                    prefix = prefix[:-1]\n",
    "                    if not prefix:\n",
    "                        return \"\"\n",
    "                    else:\n",
    "                        print(\"Not enough length:\")\n",
    "        return prefix\n",
    "    else:\n",
    "        print(\"Not acceptable length:\")\n",
    "        return \"\"\n",
    "\n",
    "# Test cases\n",
    "print(longestCommonPrefix(['flower', 'flow', 'float']))\n",
    "print(longestCommonPrefix([]))\n",
    "print(longestCommonPrefix(['dog', 'cat', 'racecar']))\n"
   ]
  },
  {
   "cell_type": "code",
   "execution_count": null,
   "id": "91106a2e-5b96-473c-a717-ad6525f2d045",
   "metadata": {},
   "outputs": [],
   "source": []
  }
 ],
 "metadata": {
  "kernelspec": {
   "display_name": "Python 3 (ipykernel)",
   "language": "python",
   "name": "python3"
  },
  "language_info": {
   "codemirror_mode": {
    "name": "ipython",
    "version": 3
   },
   "file_extension": ".py",
   "mimetype": "text/x-python",
   "name": "python",
   "nbconvert_exporter": "python",
   "pygments_lexer": "ipython3",
   "version": "3.12.7"
  }
 },
 "nbformat": 4,
 "nbformat_minor": 5
}
