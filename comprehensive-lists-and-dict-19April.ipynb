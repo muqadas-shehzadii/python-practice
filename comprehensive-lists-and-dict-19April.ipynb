{
 "cells": [
  {
   "cell_type": "markdown",
   "id": "5cef901c-c2a4-4fe2-9e73-8c8a401b6c64",
   "metadata": {},
   "source": [
    "<h1 align = center>comprehnsice list and dictionaries</h1>"
   ]
  },
  {
   "cell_type": "markdown",
   "id": "e932db45-ab5e-4fe3-b180-026eaac93088",
   "metadata": {},
   "source": [
    "#### create a list of suqares , from 1 to 10 , return a list of suqare"
   ]
  },
  {
   "cell_type": "code",
   "execution_count": 28,
   "id": "f2cb3226-e7b5-45ed-bc99-ea5b842b63e3",
   "metadata": {},
   "outputs": [
    {
     "name": "stdout",
     "output_type": "stream",
     "text": [
      "[1, 4, 9, 16, 25, 36, 49, 64, 81, 100]\n"
     ]
    }
   ],
   "source": [
    "#f l1 = list(range(1,11))\n",
    "#for i in l1:\n",
    "   #print('list osuqare is',i*i)\n",
    "suqares = [l1**2 for l1 in range(1,11)]\n",
    "print(suqares)"
   ]
  },
  {
   "cell_type": "markdown",
   "id": "efc54e1d-ff0b-4024-a7c8-3d403329b04a",
   "metadata": {},
   "source": [
    "#### Extract first letter"
   ]
  },
  {
   "cell_type": "code",
   "execution_count": 32,
   "id": "39e21681-6fb5-4cc4-bdc8-a40f52278bbf",
   "metadata": {},
   "outputs": [
    {
     "name": "stdout",
     "output_type": "stream",
     "text": [
      "['a', 'b', 'c']\n"
     ]
    }
   ],
   "source": [
    "fruits = ['apple','banana','cherry']\n",
    "first_letter = [fruit[0] for fruit in fruits]\n",
    "print(first_letter)"
   ]
  },
  {
   "cell_type": "markdown",
   "id": "127b8e97-ac0b-40fe-807e-b99cbfeae107",
   "metadata": {},
   "source": [
    "#####  Filter out odd numbers\n",
    "#### - From a list of numbers 1 to 20, keep only the even ones."
   ]
  },
  {
   "cell_type": "code",
   "execution_count": 39,
   "id": "ed807faf-d2f5-4d40-a31e-a75f8ac7e453",
   "metadata": {},
   "outputs": [
    {
     "name": "stdout",
     "output_type": "stream",
     "text": [
      "[2, 4, 6, 8, 10, 12, 14, 16, 18, 20]\n"
     ]
    }
   ],
   "source": [
    "numbers = list(range(1,21))\n",
    "even_numbers = [n for n in numbers if num % 2 == 0]\n",
    "print(even_numbers)"
   ]
  },
  {
   "cell_type": "code",
   "execution_count": 48,
   "id": "59a94fbb-4b0f-4c4d-b576-6b366597a034",
   "metadata": {},
   "outputs": [],
   "source": [
    "#even_numbers = [i for i in range(1,21)if i%2=0]\n",
    "#print(even_numbers)\n",
    "#cannot describe range and if else in one list comprehension."
   ]
  },
  {
   "cell_type": "markdown",
   "id": "98eb60e6-5d2e-4d5d-b3a4-9d7daaf29085",
   "metadata": {},
   "source": [
    "#####  Map numbers to their squares\n",
    "##### - From 1 to 5, create a dictionary like {1: 1, 2: 4, 3: 9, ...}"
   ]
  },
  {
   "cell_type": "code",
   "execution_count": 42,
   "id": "e1b623e7-bd75-476a-a634-712b1c9734f7",
   "metadata": {},
   "outputs": [
    {
     "name": "stdout",
     "output_type": "stream",
     "text": [
      "{1: 1, 2: 4, 3: 9, 4: 16, 5: 25}\n"
     ]
    }
   ],
   "source": [
    "# dic = {\n",
    "#     1:1,\n",
    "#     2:4,\n",
    "#     3:9,\n",
    "#     4:16,\n",
    "#     5:25\n",
    "# }\n",
    "suqare = {x:x**2 for x in range(1,6)}\n",
    "print(suqare)"
   ]
  },
  {
   "cell_type": "markdown",
   "id": "18c58166-6294-4adb-a356-4056038f628b",
   "metadata": {},
   "source": [
    "##### . Map words to their lengths\n",
    "##### - Given [\"apple\", \"banana\", \"cherry\"],\n",
    "#####    return {\"apple\": 5, \"banana\": 6, \"cherry\": 6}."
   ]
  },
  {
   "cell_type": "code",
   "execution_count": 54,
   "id": "69285774-42b1-4a7f-8d3c-af80fbef0ce8",
   "metadata": {},
   "outputs": [
    {
     "name": "stdout",
     "output_type": "stream",
     "text": [
      "{'apple': 5, 'banana': 6, 'cherry': 6}\n"
     ]
    }
   ],
   "source": [
    "fruits = ['apple','banana','cherry']\n",
    "length = {fruit:len(fruit) for fruit in fruits}\n",
    "print(length)"
   ]
  },
  {
   "cell_type": "markdown",
   "id": "5cf1b8b7-d2f1-4e84-afeb-b71a0491efb6",
   "metadata": {},
   "source": [
    "####  Remove vowels from strings\n",
    "#### - From [\"hello\", \"world\"], return [\"hll\", \"wrld\"]."
   ]
  },
  {
   "cell_type": "code",
   "execution_count": 73,
   "id": "818ffbb1-9c4f-4d61-8800-0477151caaf3",
   "metadata": {},
   "outputs": [
    {
     "name": "stdout",
     "output_type": "stream",
     "text": [
      "['hello', 'world']\n"
     ]
    }
   ],
   "source": [
    "\n",
    "txt = [\"hello\" ,\"world\"]\n",
    "vowels ='aeiouAEIOU'\n",
    "remove_vowels = [\"\" .join([]) ]\n",
    "print(remove_vowels)\n",
    "\n",
    "    "
   ]
  },
  {
   "cell_type": "markdown",
   "id": "81edb4e2-22b6-41f4-ab26-95da6c9b0159",
   "metadata": {},
   "source": [
    "##### 7. Filter dict entries by value\n",
    "##### - Given {\"a\": 10, \"b\": 20, \"c\": 30}, return only items with value > 15."
   ]
  },
  {
   "cell_type": "code",
   "execution_count": 67,
   "id": "909e5558-7b98-4fab-87b7-c8e38e6007ff",
   "metadata": {},
   "outputs": [
    {
     "name": "stdout",
     "output_type": "stream",
     "text": [
      "{'b': 20, 'c': 30}\n"
     ]
    }
   ],
   "source": [
    "dictionary = {\n",
    "    'a':10,\n",
    "    'b':20,\n",
    "    'c':30,\n",
    "}\n",
    "value = {key:value for key , value in dictionary.items() if value>15}\n",
    "print(value)"
   ]
  },
  {
   "cell_type": "markdown",
   "id": "a02914d6-55a7-4caf-a9d1-7bcf3d5fffc5",
   "metadata": {},
   "source": [
    "#### 8. Inverting a dictionary\n",
    "#### - From {\"a\": 1, \"b\": 2, \"c\": 3}, return {1: \"a\", 2: \"b\", 3: \"c\"}."
   ]
  },
  {
   "cell_type": "code",
   "execution_count": 69,
   "id": "e0c0574f-2179-4614-aa34-1acaf5400804",
   "metadata": {},
   "outputs": [
    {
     "name": "stdout",
     "output_type": "stream",
     "text": [
      "{1: 'a', 2: 'b', 3: 'c'}\n"
     ]
    }
   ],
   "source": [
    "dict1 = {'a':1,\n",
    "        'b':2,\n",
    "        'c':3}\n",
    "inverted = {value:key for key,value in dict1.items()}\n",
    "print(inverted)"
   ]
  },
  {
   "cell_type": "markdown",
   "id": "563c195a-382f-4ecc-8794-db2722aae46a",
   "metadata": {},
   "source": [
    "####  find palindrome"
   ]
  },
  {
   "cell_type": "markdown",
   "id": "ae2ffa90-f578-43dc-9f8f-19255ffbb4cd",
   "metadata": {},
   "source": [
    "#### . 9 Find palindromes\n",
    "#### - From [\"madam\", \"apple\", \"racecar\", \"python\"], return only the palindromes."
   ]
  },
  {
   "cell_type": "code",
   "execution_count": 72,
   "id": "bce9e86c-e66c-4c31-a051-760f9f142887",
   "metadata": {},
   "outputs": [
    {
     "name": "stdout",
     "output_type": "stream",
     "text": [
      "['madam', 'racecar']\n"
     ]
    }
   ],
   "source": [
    "list2 = [\"madam\",\"apple\",\"racecar\",\"python\"]\n",
    "palindrome = [i for i in list2 if i == i[::-1]]\n",
    "print(palindrome)"
   ]
  },
  {
   "cell_type": "code",
   "execution_count": 74,
   "id": "237a8e25-1bb8-4284-8baf-9a59d2ef62ea",
   "metadata": {},
   "outputs": [
    {
     "name": "stdout",
     "output_type": "stream",
     "text": [
      "['hll', 'wrld']\n"
     ]
    }
   ],
   "source": [
    "words = [\"hello\", \"world\"]\n",
    "vowels = \"aeiouAEIOU\"\n",
    "no_vowels = [''.join(char for char in word if char not in vowels) for word in words]\n",
    "print(no_vowels) "
   ]
  },
  {
   "cell_type": "code",
   "execution_count": null,
   "id": "e259392d-537c-487d-a4b3-4a16f536260d",
   "metadata": {},
   "outputs": [],
   "source": [
    "# we cannot run nested sets,"
   ]
  },
  {
   "cell_type": "code",
   "execution_count": null,
   "id": "e77cd520-2a50-4f5e-be99-8bf8f6bd971b",
   "metadata": {},
   "outputs": [],
   "source": []
  }
 ],
 "metadata": {
  "kernelspec": {
   "display_name": "Python 3 (ipykernel)",
   "language": "python",
   "name": "python3"
  },
  "language_info": {
   "codemirror_mode": {
    "name": "ipython",
    "version": 3
   },
   "file_extension": ".py",
   "mimetype": "text/x-python",
   "name": "python",
   "nbconvert_exporter": "python",
   "pygments_lexer": "ipython3",
   "version": "3.12.7"
  }
 },
 "nbformat": 4,
 "nbformat_minor": 5
}
