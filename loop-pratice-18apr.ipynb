{
 "cells": [
  {
   "cell_type": "markdown",
   "id": "58bbb743-2fb8-4417-9a43-8a949498d8fd",
   "metadata": {},
   "source": [
    "<h1 align= center>Loop Practice</h1>"
   ]
  },
  {
   "cell_type": "markdown",
   "id": "f3cfbccd-9ae6-4e04-98c8-6ff2b534234f",
   "metadata": {
    "scrolled": true
   },
   "source": [
    "for i in range(3):\n",
    "    for j in range(0,10):\n",
    "        print(f'{i} * {j} = {i*j}')"
   ]
  },
  {
   "cell_type": "code",
   "execution_count": 8,
   "id": "b4aa687f-a6cf-4e31-a9a0-815f5a90f918",
   "metadata": {},
   "outputs": [
    {
     "name": "stdout",
     "output_type": "stream",
     "text": [
      "key1: This is key1 value\n",
      "key2: This is key2 value\n",
      "key3: This is key3 value\n",
      "key4: This is key4 value\n",
      "key5: This is key5 value\n",
      "key6: This is key6 value\n",
      "key7: This is key7 value\n",
      "['key1:', 'key2:', 'key3:', 'key4:', 'key5:', 'key6:', 'key7:']\n",
      "Reverse list is : ['key7:', 'key6:', 'key5:', 'key4:', 'key3:', 'key2:', 'key1:']\n"
     ]
    }
   ],
   "source": [
    "d = {\n",
    "    'key1:': 'This is key1 value',\n",
    "    'key2:': 'This is key2 value',\n",
    "    'key3:': 'This is key3 value',\n",
    "    'key4:': 'This is key4 value',\n",
    "    'key5:': 'This is key5 value',\n",
    "    'key6:': 'This is key6 value',\n",
    "    'key7:': 'This is key7 value',\n",
    "}\n",
    "for key , value in d.items():\n",
    "    print(key, value)\n",
    "\n",
    "l = list(d.keys())\n",
    "print(l)\n",
    "l2 = sorted(l,reverse = True)\n",
    "print(\"Reverse list is :\",l2)"
   ]
  },
  {
   "cell_type": "code",
   "execution_count": 13,
   "id": "a4e5e894-d5ef-4074-8326-2339c6200b1e",
   "metadata": {},
   "outputs": [
    {
     "name": "stdout",
     "output_type": "stream",
     "text": [
      "1 2\n",
      "3 4\n",
      "5 6\n",
      "7 8\n",
      "9 10\n"
     ]
    }
   ],
   "source": [
    "t = [(1,2),(3,4),(5,6),(7,8),(9,10)]\n",
    "for a,b in t:\n",
    "    print(a,b)"
   ]
  },
  {
   "cell_type": "code",
   "execution_count": 16,
   "id": "52ba3785-5cfe-4003-a634-8f91a0540ef4",
   "metadata": {},
   "outputs": [
    {
     "name": "stdout",
     "output_type": "stream",
     "text": [
      "0 bnana\n",
      "1 cherry\n",
      "2 mango\n",
      "3 apple\n"
     ]
    }
   ],
   "source": [
    "smoothie_fruits = ('bnana' , 'cherry' ,'mango', 'apple')\n",
    "for a,b in enumerate(smoothie_fruits):\n",
    "    print(a,b)\n",
    "\n",
    "# enumerate function returns indexx and item both "
   ]
  },
  {
   "cell_type": "markdown",
   "id": "6b3234f3-a942-4a2c-9e08-8f41181000a5",
   "metadata": {},
   "source": [
    "#### print first 10 even numbers by using loops\n"
   ]
  },
  {
   "cell_type": "code",
   "execution_count": 23,
   "id": "b6e5a775-3f06-4ea9-88e8-5f4eee7acf3a",
   "metadata": {},
   "outputs": [
    {
     "name": "stdout",
     "output_type": "stream",
     "text": [
      "0\n",
      "2\n",
      "4\n",
      "6\n",
      "8\n",
      "10\n",
      "12\n",
      "14\n",
      "16\n",
      "18\n"
     ]
    }
   ],
   "source": [
    "for i in range(0,10):\n",
    "    print(i*2)"
   ]
  },
  {
   "cell_type": "markdown",
   "id": "d2fac2ba-6dc0-4481-9e74-62ed206ba3d8",
   "metadata": {},
   "source": [
    "#### Find the sum of numbers from 1 to 100."
   ]
  },
  {
   "cell_type": "code",
   "execution_count": 30,
   "id": "9b0a76f2-290c-4a35-a803-c2b19b84599e",
   "metadata": {},
   "outputs": [
    {
     "name": "stdout",
     "output_type": "stream",
     "text": [
      "5050\n"
     ]
    }
   ],
   "source": [
    "sum1 = 0\n",
    "for m in range(1,101):\n",
    "    sum1+=m\n",
    "print(sum1)\n"
   ]
  },
  {
   "cell_type": "code",
   "execution_count": 29,
   "id": "3d03c59e-0ee4-49e2-9301-228aeed7e595",
   "metadata": {},
   "outputs": [
    {
     "name": "stdout",
     "output_type": "stream",
     "text": [
      "Sum from 1 to 100 is: 5050\n"
     ]
    }
   ],
   "source": [
    "total = 0\n",
    "for i in range(1, 101):\n",
    "    total += i\n",
    "\n",
    "print(\"Sum from 1 to 100 is:\", total)\n"
   ]
  },
  {
   "cell_type": "markdown",
   "id": "eeb188a5-978c-449b-921d-71a30d8fa02a",
   "metadata": {},
   "source": [
    "#### Count how many times a character appears in a string."
   ]
  },
  {
   "cell_type": "code",
   "execution_count": 34,
   "id": "f486ee8e-56dc-4f06-865f-0028c0596eb2",
   "metadata": {},
   "outputs": [
    {
     "name": "stdout",
     "output_type": "stream",
     "text": [
      "The character 'a' appears 4 times.\n"
     ]
    }
   ],
   "source": [
    "string1 = 'hey i am muqadas shehzadi. Python expert'\n",
    "char_to_count = 'a'\n",
    "count = 0\n",
    "for char in string1:\n",
    "    if char == char_to_count:\n",
    "      count +=1\n",
    "print(f\"The character '{char_to_count}' appears {count} times.\")    \n",
    "    "
   ]
  },
  {
   "cell_type": "code",
   "execution_count": 36,
   "id": "cecdd7fc-8e6d-4d86-81d7-7b54b753d440",
   "metadata": {},
   "outputs": [
    {
     "name": "stdout",
     "output_type": "stream",
     "text": [
      "the number 3 appeaars 1 times\n"
     ]
    }
   ],
   "source": [
    "num = [1,1,1,3,4,5,6,7,8]\n",
    "num_to_count = 3\n",
    "count = 0\n",
    "for num1 in num:\n",
    "    if num1 == num_to_count:\n",
    "        count+=1\n",
    "print(f'the number {num_to_count} appeaars {count} times')        "
   ]
  },
  {
   "cell_type": "markdown",
   "id": "0f2b4ffc-ad44-48cf-b115-3bece6f2234b",
   "metadata": {},
   "source": [
    "### Reverse a string using loops\n"
   ]
  },
  {
   "cell_type": "code",
   "execution_count": 42,
   "id": "87efe6c4-6718-4abb-ab63-51bc4f51b908",
   "metadata": {},
   "outputs": [
    {
     "name": "stdout",
     "output_type": "stream",
     "text": [
      "sadaquM\n"
     ]
    }
   ],
   "source": [
    "string = 'Muqadas'\n",
    "reverse_txt = ''\n",
    "for i in string:\n",
    "    reverse_txt = i + reverse_txt\n",
    "print(reverse_txt)    \n"
   ]
  },
  {
   "cell_type": "code",
   "execution_count": null,
   "id": "06daae37-69f4-40be-9b50-49294a6ff1eb",
   "metadata": {},
   "outputs": [],
   "source": []
  }
 ],
 "metadata": {
  "kernelspec": {
   "display_name": "Python 3 (ipykernel)",
   "language": "python",
   "name": "python3"
  },
  "language_info": {
   "codemirror_mode": {
    "name": "ipython",
    "version": 3
   },
   "file_extension": ".py",
   "mimetype": "text/x-python",
   "name": "python",
   "nbconvert_exporter": "python",
   "pygments_lexer": "ipython3",
   "version": "3.12.7"
  }
 },
 "nbformat": 4,
 "nbformat_minor": 5
}
