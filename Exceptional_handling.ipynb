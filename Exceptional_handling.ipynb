{
 "cells": [
  {
   "cell_type": "code",
   "execution_count": 2,
   "id": "6cc0faf0-6b27-4f56-8685-af30b1cc9b66",
   "metadata": {},
   "outputs": [
    {
     "name": "stdout",
     "output_type": "stream",
     "text": [
      "Tuple is immutable\n"
     ]
    }
   ],
   "source": [
    "try:\n",
    "    my_tuple = (1, 2, 3, 4)\n",
    "    my_tuple[1] = 0\n",
    "    print(my_tuple)\n",
    "except Exception as e:\n",
    "    print('Tuple is immutable')\n"
   ]
  },
  {
   "cell_type": "code",
   "execution_count": 10,
   "id": "3edc4271-6526-45af-84a0-707017c3bc5c",
   "metadata": {},
   "outputs": [
    {
     "name": "stdout",
     "output_type": "stream",
     "text": [
      "a & b are not defined\n"
     ]
    }
   ],
   "source": [
    "try:\n",
    "    print(4/0)\n",
    "    a,b=a+b\n",
    "    print(a,b)\n",
    "except Exception as w:\n",
    "    print(\"a & b are not defined\")\n",
    "except Exception as e:\n",
    "    print(\"zero division error\")    "
   ]
  },
  {
   "cell_type": "code",
   "execution_count": 21,
   "id": "f339e277-07e3-4d0e-afa8-7ab069784d1a",
   "metadata": {},
   "outputs": [
    {
     "name": "stdout",
     "output_type": "stream",
     "text": [
      "Happy coding\n"
     ]
    },
    {
     "ename": "Exception",
     "evalue": "hello ",
     "output_type": "error",
     "traceback": [
      "\u001b[1;31m---------------------------------------------------------------------------\u001b[0m",
      "\u001b[1;31mException\u001b[0m                                 Traceback (most recent call last)",
      "Cell \u001b[1;32mIn[21], line 7\u001b[0m\n\u001b[0;32m      3\u001b[0m     b\u001b[38;5;241m=\u001b[39m\u001b[38;5;241m6\u001b[39m\n\u001b[0;32m      4\u001b[0m     \u001b[38;5;66;03m#print(4/0)\u001b[39;00m\n\u001b[0;32m      5\u001b[0m     \u001b[38;5;66;03m#a, b = a + b\u001b[39;00m\n\u001b[0;32m      6\u001b[0m     \u001b[38;5;66;03m#print(a, b)\u001b[39;00m\n\u001b[1;32m----> 7\u001b[0m     \u001b[38;5;28;01mraise\u001b[39;00m \u001b[38;5;167;01mException\u001b[39;00m(\u001b[38;5;124m\"\u001b[39m\u001b[38;5;124mhello \u001b[39m\u001b[38;5;124m\"\u001b[39m)\n\u001b[0;32m      8\u001b[0m \u001b[38;5;28;01mexcept\u001b[39;00m \u001b[38;5;167;01mZeroDivisionError\u001b[39;00m:\n\u001b[0;32m      9\u001b[0m     \u001b[38;5;28mprint\u001b[39m(\u001b[38;5;124m\"\u001b[39m\u001b[38;5;124mzero division error\u001b[39m\u001b[38;5;124m\"\u001b[39m)\n",
      "\u001b[1;31mException\u001b[0m: hello "
     ]
    }
   ],
   "source": [
    "try:\n",
    "    a=5\n",
    "    b=6\n",
    "    #print(4/0)\n",
    "    #a, b = a + b\n",
    "    #print(a, b)\n",
    "    raise Exception(\"hello \")\n",
    "except ZeroDivisionError:\n",
    "    print(\"zero division error\")\n",
    "except NameError:\n",
    "    print(\"a & b are not defined\")\n",
    "else:\n",
    "    print(\"sum is\",a+b)\n",
    "finally:\n",
    "    print(\"Happy coding\")\n",
    "#raise Exception(\"hello \")\n"
   ]
  },
  {
   "cell_type": "code",
   "execution_count": 26,
   "id": "f519a5a5-07e9-4d1f-aabe-a55fe57f7161",
   "metadata": {},
   "outputs": [
    {
     "name": "stdout",
     "output_type": "stream",
     "text": [
      "Age is 12\n",
      "Happy coding\n"
     ]
    }
   ],
   "source": [
    "try:\n",
    "    age = 21\n",
    "    if age < 20:\n",
    "        print(\"Age is less\")\n",
    "except Exception:\n",
    "    print(\"Age is greator\")\n",
    "else:\n",
    "    print(\"Age is 12\")\n",
    "finally:\n",
    "    print(\"Happy coding\")\n",
    "    \n",
    "        \n",
    "    "
   ]
  },
  {
   "cell_type": "code",
   "execution_count": 28,
   "id": "ef9dc303-4a7c-4b3d-9256-7f711337b561",
   "metadata": {},
   "outputs": [
    {
     "name": "stdout",
     "output_type": "stream",
     "text": [
      "Age is 21\n",
      "Happy coding\n"
     ]
    }
   ],
   "source": [
    "try:\n",
    "    age = 22\n",
    "    if age < 20:\n",
    "        print(\"Age is less\")\n",
    "except Exception:\n",
    "    print(\"An exception occurred\")\n",
    "else:\n",
    "    print(\"Age is 21\")\n",
    "finally:\n",
    "    print(\"Happy coding\")\n"
   ]
  },
  {
   "cell_type": "code",
   "execution_count": 30,
   "id": "6779e075-46da-4925-8767-3dbb4bc1a265",
   "metadata": {},
   "outputs": [
    {
     "data": {
      "text/plain": [
       "'win32'"
      ]
     },
     "execution_count": 30,
     "metadata": {},
     "output_type": "execute_result"
    }
   ],
   "source": [
    "import sys\n",
    "sys.platform"
   ]
  },
  {
   "cell_type": "code",
   "execution_count": 32,
   "id": "5d48160a-5cb6-4846-a2b5-a6eb40d66b72",
   "metadata": {},
   "outputs": [
    {
     "name": "stdout",
     "output_type": "stream",
     "text": [
      "Happy coding\n"
     ]
    }
   ],
   "source": [
    "import sys\n",
    "assert('win32' in sys.platform),'run on windows32'\n",
    "print('Happy coding')"
   ]
  },
  {
   "cell_type": "code",
   "execution_count": 34,
   "id": "dceda059-743e-408c-9230-bfa45ccbbee2",
   "metadata": {},
   "outputs": [],
   "source": [
    "assert 4 > 3, \"Math is broken!\"\n"
   ]
  },
  {
   "cell_type": "code",
   "execution_count": null,
   "id": "050911e7-daea-436c-a57d-7f010f8c6224",
   "metadata": {},
   "outputs": [],
   "source": [
    "assert()"
   ]
  },
  {
   "cell_type": "code",
   "execution_count": 56,
   "id": "381b1537-c3b0-4183-9750-2f8cbb5fbb32",
   "metadata": {},
   "outputs": [
    {
     "name": "stdin",
     "output_type": "stream",
     "text": [
      "Enter a number from range 1 to 10 33\n"
     ]
    },
    {
     "name": "stdout",
     "output_type": "stream",
     "text": [
      "Number is out of range!\n"
     ]
    }
   ],
   "source": [
    "import random\n",
    "\n",
    "try:\n",
    "    def guessnum():\n",
    "        r=range(1,11) \n",
    "        num = int(input(\"Enter a number from range 1 to 10\"))\n",
    "        if num in r:\n",
    "            print(\"valid number:\",num)\n",
    "        else:\n",
    "            print(\"Number is out of range!\")\n",
    "    guessnum()\n",
    "except Exception:\n",
    "    print(\"Out of range\")\n"
   ]
  },
  {
   "cell_type": "code",
   "execution_count": null,
   "id": "e964b11b-6b0b-42aa-9021-0e2361f7bac5",
   "metadata": {},
   "outputs": [],
   "source": [
    "try:\n",
    "    def guessnum():\n",
    "        r = range(1, 11)  # range from 1 to 10 (inclusive)\n",
    "        num = int(input(f\"Enter a number between {r.start} and {r.stop - 1}: \"))\n",
    "        \n",
    "        if num in r:\n",
    "            print(\"Valid number:\", num)\n",
    "        else:\n",
    "            print(\"Number is out of range!\")\n",
    "\n",
    "    guessnum()\n",
    "except Exception:\n",
    "    print(\"Error occurred\")\n"
   ]
  },
  {
   "cell_type": "code",
   "execution_count": null,
   "id": "92914f0a-a8f7-4dd3-b395-7cd368586f5c",
   "metadata": {},
   "outputs": [],
   "source": [
    "import random\n",
    "\n",
    "def number_guessing_game():\n",
    "    number_to_guess = random.randint(1, 10)\n",
    "    attempts = 0\n",
    "\n",
    "    print(\" Welcome to the Number Guessing Game!\")\n",
    "    print(\"Guess the number between 1 and 10.\")\n",
    "\n",
    "    while True:\n",
    "        try:\n",
    "            guess = int(input(\"Enter your guess: \"))\n",
    "            attempts += 1\n",
    "\n",
    "            if guess < 1 or guess > 10:\n",
    "                print(\" Guess must be between 1 and 10.\")\n",
    "                continue\n",
    "\n",
    "            if guess == number_to_guess:\n",
    "                print(f\" Correct! You guessed it in {attempts} attempts!\")\n",
    "                break\n",
    "            else:\n",
    "                print(\" Wrong guess. Try again!\")\n",
    "\n",
    "        except ValueError:\n",
    "            print(\" Invalid input! Please enter a valid number.\")\n",
    "\n",
    "number_guessing_game()"
   ]
  }
 ],
 "metadata": {
  "kernelspec": {
   "display_name": "Python 3 (ipykernel)",
   "language": "python",
   "name": "python3"
  },
  "language_info": {
   "codemirror_mode": {
    "name": "ipython",
    "version": 3
   },
   "file_extension": ".py",
   "mimetype": "text/x-python",
   "name": "python",
   "nbconvert_exporter": "python",
   "pygments_lexer": "ipython3",
   "version": "3.12.7"
  }
 },
 "nbformat": 4,
 "nbformat_minor": 5
}
