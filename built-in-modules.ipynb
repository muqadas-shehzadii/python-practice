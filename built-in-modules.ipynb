{
 "cells": [
  {
   "cell_type": "code",
   "execution_count": 8,
   "id": "4f9875b9-56c2-4f38-baae-f83bf4834c03",
   "metadata": {},
   "outputs": [
    {
     "data": {
      "text/plain": [
       "2"
      ]
     },
     "execution_count": 8,
     "metadata": {},
     "output_type": "execute_result"
    }
   ],
   "source": [
    "import math as a\n",
    "a.floor(2.3)\n"
   ]
  },
  {
   "cell_type": "code",
   "execution_count": 5,
   "id": "a2e6830b-881c-42ca-b332-78562a929eb7",
   "metadata": {},
   "outputs": [
    {
     "name": "stdout",
     "output_type": "stream",
     "text": [
      "['In', 'Out', '_', '_1', '_2', '_3', '__', '___', '__builtin__', '__builtins__', '__doc__', '__loader__', '__name__', '__package__', '__session__', '__spec__', '_dh', '_i', '_i1', '_i2', '_i3', '_i4', '_i5', '_ih', '_ii', '_iii', '_oh', 'a', 'acos', 'acosh', 'asin', 'asinh', 'atan', 'atan2', 'atanh', 'cbrt', 'ceil', 'comb', 'copysign', 'cos', 'cosh', 'degrees', 'dist', 'e', 'erf', 'erfc', 'exit', 'exp', 'exp2', 'expm1', 'fabs', 'factorial', 'floor', 'fmod', 'frexp', 'fsum', 'gamma', 'gcd', 'get_ipython', 'hypot', 'inf', 'isclose', 'isfinite', 'isinf', 'isnan', 'isqrt', 'lcm', 'ldexp', 'lgamma', 'log', 'log10', 'log1p', 'log2', 'modf', 'nan', 'nextafter', 'open', 'perm', 'pi', 'pow', 'prod', 'quit', 'radians', 'remainder', 'sin', 'sinh', 'sqrt', 'sumprod', 'tan', 'tanh', 'tau', 'trunc', 'ulp']\n"
     ]
    }
   ],
   "source": [
    "from math import *\n",
    "print(dir())"
   ]
  },
  {
   "cell_type": "code",
   "execution_count": 10,
   "id": "e6905ea0-a7ee-4ff3-bd78-59c486801ddd",
   "metadata": {},
   "outputs": [
    {
     "data": {
      "text/plain": [
       "3.141592653589793"
      ]
     },
     "execution_count": 10,
     "metadata": {},
     "output_type": "execute_result"
    }
   ],
   "source": [
    "import math \n",
    "math.pi"
   ]
  },
  {
   "cell_type": "code",
   "execution_count": 11,
   "id": "84ea5e96-2520-42cb-8064-929c6b2e7b39",
   "metadata": {},
   "outputs": [
    {
     "data": {
      "text/plain": [
       "6.283185307179586"
      ]
     },
     "execution_count": 11,
     "metadata": {},
     "output_type": "execute_result"
    }
   ],
   "source": [
    "import math\n",
    "math.tau"
   ]
  },
  {
   "cell_type": "code",
   "execution_count": 12,
   "id": "9b5190cb-2b73-448e-99c1-0b03501048f0",
   "metadata": {},
   "outputs": [
    {
     "data": {
      "text/plain": [
       "2.718281828459045"
      ]
     },
     "execution_count": 12,
     "metadata": {},
     "output_type": "execute_result"
    }
   ],
   "source": [
    "import math\n",
    "math.e"
   ]
  },
  {
   "cell_type": "code",
   "execution_count": 13,
   "id": "261a4090-756f-4ca4-9643-a152efabbb31",
   "metadata": {},
   "outputs": [
    {
     "data": {
      "text/plain": [
       "120"
      ]
     },
     "execution_count": 13,
     "metadata": {},
     "output_type": "execute_result"
    }
   ],
   "source": [
    "import math as m\n",
    "m.factorial(5)"
   ]
  },
  {
   "cell_type": "code",
   "execution_count": 27,
   "id": "251475ff-c59b-4f24-9985-826d32ea9533",
   "metadata": {},
   "outputs": [
    {
     "data": {
      "text/plain": [
       "3628800"
      ]
     },
     "execution_count": 27,
     "metadata": {},
     "output_type": "execute_result"
    }
   ],
   "source": [
    "def fact_recursion(num):\n",
    "    if num <0:\n",
    "        return 0\n",
    "    if num == 0:\n",
    "        return 1\n",
    "    return num * fact_recursion(num-1)\n",
    "fact_recursion(10)"
   ]
  },
  {
   "cell_type": "code",
   "execution_count": 22,
   "id": "df24c07b-635e-491d-9586-e4b31339ce3f",
   "metadata": {},
   "outputs": [
    {
     "data": {
      "text/plain": [
       "56"
      ]
     },
     "execution_count": 22,
     "metadata": {},
     "output_type": "execute_result"
    }
   ],
   "source": [
    "def fact_loop(num):\n",
    "    if num <0:\n",
    "        return 0\n",
    "    if num==0:\n",
    "        return 1\n",
    "    factorial = 1\n",
    "    for i in range(1,num+1):\n",
    "        factorial = factorial+i\n",
    "    return factorial\n",
    "fact_loop(10)"
   ]
  },
  {
   "cell_type": "code",
   "execution_count": 23,
   "id": "91f30b67-bdb9-4b0f-a1b2-c77d2361a9cc",
   "metadata": {},
   "outputs": [
    {
     "data": {
      "text/plain": [
       "3628800"
      ]
     },
     "execution_count": 23,
     "metadata": {},
     "output_type": "execute_result"
    }
   ],
   "source": [
    "import math\n",
    "math.factorial(10)"
   ]
  },
  {
   "cell_type": "code",
   "execution_count": 30,
   "id": "daf55591-bdc8-4822-bc5f-8b4e2f213e89",
   "metadata": {},
   "outputs": [
    {
     "data": {
      "text/plain": [
       "0.0011367000006430317"
      ]
     },
     "execution_count": 30,
     "metadata": {},
     "output_type": "execute_result"
    }
   ],
   "source": [
    "import timeit\n",
    "timeit.timeit(\"fact_loop(10)\",globals=globals(),number = 1000)"
   ]
  },
  {
   "cell_type": "code",
   "execution_count": 31,
   "id": "0db768e8-9154-4413-b166-12755f1d08dc",
   "metadata": {},
   "outputs": [
    {
     "data": {
      "text/plain": [
       "0.0025287999997090083"
      ]
     },
     "execution_count": 31,
     "metadata": {},
     "output_type": "execute_result"
    }
   ],
   "source": [
    "import timeit\n",
    "timeit.timeit(\"fact_recursion(10)\",globals=globals(),number = 1000)"
   ]
  },
  {
   "cell_type": "code",
   "execution_count": 32,
   "id": "9e96b47e-d67e-48f3-b441-1c6dc1a17d2e",
   "metadata": {},
   "outputs": [
    {
     "data": {
      "text/plain": [
       "0.00015779999739606865"
      ]
     },
     "execution_count": 32,
     "metadata": {},
     "output_type": "execute_result"
    }
   ],
   "source": [
    "import timeit\n",
    "timeit.timeit(\"math.factorial(10)\",globals=globals(),number = 1000)"
   ]
  },
  {
   "cell_type": "code",
   "execution_count": 36,
   "id": "25b81687-0ab6-4879-9eea-34130bb1b6b6",
   "metadata": {},
   "outputs": [
    {
     "data": {
      "text/plain": [
       "(2, 50, 23)"
      ]
     },
     "execution_count": 36,
     "metadata": {},
     "output_type": "execute_result"
    }
   ],
   "source": [
    "import math\n",
    "math.gcd(66,34) , math.gcd(100,50) , math.lcm(23,23)"
   ]
  },
  {
   "cell_type": "code",
   "execution_count": 34,
   "id": "95c65d56-a15e-4d7f-b248-c89befae29c3",
   "metadata": {},
   "outputs": [
    {
     "data": {
      "text/plain": [
       "952"
      ]
     },
     "execution_count": 34,
     "metadata": {},
     "output_type": "execute_result"
    }
   ],
   "source": [
    "import math\n",
    "math.lcm(34,56)"
   ]
  },
  {
   "cell_type": "markdown",
   "id": "8dcef05d-050d-4a1b-8d59-f20a2d7c8221",
   "metadata": {},
   "source": [
    "we have to built our own modules"
   ]
  },
  {
   "cell_type": "code",
   "execution_count": 42,
   "id": "85ff9c8a-f778-42ee-8a11-5fb4cf9d141e",
   "metadata": {},
   "outputs": [
    {
     "data": {
      "text/plain": [
       "-0.27941549819892586"
      ]
     },
     "execution_count": 42,
     "metadata": {},
     "output_type": "execute_result"
    }
   ],
   "source": [
    "import math\n",
    "a=3\n",
    "b=5\n",
    "math.pow(a,b)\n",
    "math.sqrt(25)\n",
    "math.exp(b)\n",
    "math.cos(21)\n",
    "math.sin(6)"
   ]
  },
  {
   "cell_type": "markdown",
   "id": "2b1cfe17-a889-46d1-8074-3e5660645118",
   "metadata": {},
   "source": [
    "random module"
   ]
  },
  {
   "cell_type": "code",
   "execution_count": 47,
   "id": "85eda4c2-45a9-471c-b71a-e537f4faacbe",
   "metadata": {},
   "outputs": [
    {
     "data": {
      "text/plain": [
       "3"
      ]
     },
     "execution_count": 47,
     "metadata": {},
     "output_type": "execute_result"
    }
   ],
   "source": [
    "import random\n",
    "#ms = random.randint(0,5)\n",
    "ms = random.randrange(0,5)\n",
    "ms"
   ]
  },
  {
   "cell_type": "code",
   "execution_count": 49,
   "id": "a0c0c5f2-5697-4939-8406-6ed1b4f66e2f",
   "metadata": {},
   "outputs": [
    {
     "name": "stdout",
     "output_type": "stream",
     "text": [
      "Download completed\n"
     ]
    }
   ],
   "source": [
    "import urllib.request\n",
    "import os\n",
    "os.makedirs('downloads',exist_ok=True)\n",
    "myurl = 'https://gist.githubusercontent.com/muqadas-shehzadii/d33c2a571720e1f1d25687f3d8ffde69/raw/22888236d39e6405dd3c267c8f02e24c0901a205/family.csv'\n",
    "urllib.request.urlretrieve(myurl,'downloads/family.csv')\n",
    "print(\"Download completed\")"
   ]
  },
  {
   "cell_type": "code",
   "execution_count": null,
   "id": "eba315c0-446c-40d7-8457-442b9bcfa794",
   "metadata": {},
   "outputs": [],
   "source": []
  }
 ],
 "metadata": {
  "kernelspec": {
   "display_name": "Python 3 (ipykernel)",
   "language": "python",
   "name": "python3"
  },
  "language_info": {
   "codemirror_mode": {
    "name": "ipython",
    "version": 3
   },
   "file_extension": ".py",
   "mimetype": "text/x-python",
   "name": "python",
   "nbconvert_exporter": "python",
   "pygments_lexer": "ipython3",
   "version": "3.12.7"
  }
 },
 "nbformat": 4,
 "nbformat_minor": 5
}
