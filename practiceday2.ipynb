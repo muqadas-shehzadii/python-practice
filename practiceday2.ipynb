{
 "cells": [
  {
   "cell_type": "markdown",
   "id": "e09d8510-6172-472d-9d3c-66b7b41cc434",
   "metadata": {},
   "source": [
    "# Assignment"
   ]
  },
  {
   "cell_type": "markdown",
   "id": "0d4e25d7-1c8f-46fa-98f4-8bdfddd82f0e",
   "metadata": {},
   "source": [
    "### create variable and print"
   ]
  },
  {
   "cell_type": "code",
   "execution_count": 1,
   "id": "da4fdc28-21f7-413b-8071-f215b497c02c",
   "metadata": {},
   "outputs": [
    {
     "name": "stdout",
     "output_type": "stream",
     "text": [
      "45.4\n"
     ]
    }
   ],
   "source": [
    "var  = 45.4\n",
    "print(var)"
   ]
  },
  {
   "cell_type": "markdown",
   "id": "069a4f4a-aaa8-4a02-ad3d-6044b86450f0",
   "metadata": {},
   "source": [
    "#### swap two variables"
   ]
  },
  {
   "cell_type": "code",
   "execution_count": 7,
   "id": "9c08fcd0-3e5e-427c-9dda-36ae26270cee",
   "metadata": {},
   "outputs": [
    {
     "name": "stdout",
     "output_type": "stream",
     "text": [
      "5\n"
     ]
    }
   ],
   "source": [
    "a = 5\n",
    "b = a \n",
    "print(b)\n"
   ]
  },
  {
   "cell_type": "code",
   "execution_count": 50,
   "id": "e3d411a0-1c01-4c0a-9d1d-66d62eab656c",
   "metadata": {},
   "outputs": [
    {
     "name": "stdout",
     "output_type": "stream",
     "text": [
      "a = 15\n",
      "b = 5\n"
     ]
    }
   ],
   "source": [
    "a = 5\n",
    "b = 15\n",
    "a , b = b , a\n",
    "print('a =' , a)\n",
    "print('b =' , b)"
   ]
  },
  {
   "cell_type": "markdown",
   "id": "eded8cd3-2e1b-42d3-a02e-1eb3d42be876",
   "metadata": {},
   "source": [
    "#### Assign three variables in one line"
   ]
  },
  {
   "cell_type": "code",
   "execution_count": 14,
   "id": "534728fa-9648-491c-8f89-a9b4657d2456",
   "metadata": {},
   "outputs": [
    {
     "name": "stdout",
     "output_type": "stream",
     "text": [
      "I am Muqadas\n"
     ]
    }
   ],
   "source": [
    "x , y , z = 'I' , 'am' , 'Muqadas'\n",
    "print(x , end=' ')\n",
    "print(y , end =' ')\n",
    "print(z)"
   ]
  },
  {
   "cell_type": "markdown",
   "id": "a7e5dec0-2d03-4cb2-ba23-4e575d4adac6",
   "metadata": {},
   "source": [
    "#### declare two strings and concatenate"
   ]
  },
  {
   "cell_type": "code",
   "execution_count": 21,
   "id": "502b16b9-0ac3-4b4f-81ff-9fc0981f896c",
   "metadata": {},
   "outputs": [
    {
     "name": "stdout",
     "output_type": "stream",
     "text": [
      "Hello World\n"
     ]
    }
   ],
   "source": [
    "string1 = 'Hello'\n",
    "string2 = 'World'\n",
    "print(f'{string1} {string2}')"
   ]
  },
  {
   "cell_type": "markdown",
   "id": "8eb651e9-dd81-4681-b0a6-85fef89b80ef",
   "metadata": {},
   "source": [
    "#### Increament a variable by 5"
   ]
  },
  {
   "cell_type": "code",
   "execution_count": 26,
   "id": "c7f2b004-a06d-47fe-b164-368daeb1148e",
   "metadata": {},
   "outputs": [
    {
     "name": "stdout",
     "output_type": "stream",
     "text": [
      "15\n"
     ]
    }
   ],
   "source": [
    "a = 10\n",
    "a+=5\n",
    "print(a)"
   ]
  },
  {
   "cell_type": "markdown",
   "id": "e6926ec7-ea7a-47f3-9549-ff46ea913b22",
   "metadata": {},
   "source": [
    "#### check a data type"
   ]
  },
  {
   "cell_type": "code",
   "execution_count": 31,
   "id": "f7f6e7ac-c9cb-4782-91bd-daa57a4197da",
   "metadata": {},
   "outputs": [
    {
     "name": "stdout",
     "output_type": "stream",
     "text": [
      "<class 'int'> 3\n",
      "<class 'float'> 45.5\n",
      "<class 'int'> muqadas\n"
     ]
    }
   ],
   "source": [
    "num = 3\n",
    "num1 = 45.5\n",
    "num3 = 'muqadas'\n",
    "print(type(num) , num)\n",
    "print(type(num1),num1)\n",
    "print(type(num) ,num3)"
   ]
  },
  {
   "cell_type": "markdown",
   "id": "e4a5fad3-0bb7-4798-a33e-9e81741eef17",
   "metadata": {},
   "source": [
    "#### convert a datatype into another\n",
    "\n"
   ]
  },
  {
   "cell_type": "code",
   "execution_count": 39,
   "id": "8e0aeda2-bc33-4893-aa4b-7a266fe0275c",
   "metadata": {},
   "outputs": [
    {
     "name": "stdout",
     "output_type": "stream",
     "text": [
      "<class 'str'>\n"
     ]
    }
   ],
   "source": [
    "num = 89\n",
    "num1 = str(num)\n",
    "print(type(num1))\n",
    "#we cannot convert a string into number but a number into string"
   ]
  },
  {
   "cell_type": "markdown",
   "id": "bf4f2921-7702-4fb2-b0c0-e68a57070fc7",
   "metadata": {},
   "source": [
    "#### create a variable and delete it "
   ]
  },
  {
   "cell_type": "code",
   "execution_count": 42,
   "id": "41a56a49-def1-45bb-ba38-3efcdcb6a233",
   "metadata": {},
   "outputs": [],
   "source": [
    "var4 = 76"
   ]
  },
  {
   "cell_type": "code",
   "execution_count": 44,
   "id": "56e22d05-d030-4c20-9fc3-0f1ea56960e0",
   "metadata": {},
   "outputs": [
    {
     "data": {
      "text/plain": [
       "['In',\n",
       " 'Out',\n",
       " '_',\n",
       " '_11',\n",
       " '_13',\n",
       " '_15',\n",
       " '_16',\n",
       " '_18',\n",
       " '_2',\n",
       " '_20',\n",
       " '_22',\n",
       " '_23',\n",
       " '_25',\n",
       " '_27',\n",
       " '_28',\n",
       " '_3',\n",
       " '_30',\n",
       " '_32',\n",
       " '_33',\n",
       " '_34',\n",
       " '_36',\n",
       " '_38',\n",
       " '_4',\n",
       " '_40',\n",
       " '_41',\n",
       " '_43',\n",
       " '_5',\n",
       " '_6',\n",
       " '_8',\n",
       " '_9',\n",
       " '__',\n",
       " '___',\n",
       " '__builtin__',\n",
       " '__builtins__',\n",
       " '__doc__',\n",
       " '__loader__',\n",
       " '__name__',\n",
       " '__package__',\n",
       " '__pandas',\n",
       " '__session__',\n",
       " '__spec__',\n",
       " '_dh',\n",
       " '_i',\n",
       " '_i1',\n",
       " '_i10',\n",
       " '_i11',\n",
       " '_i12',\n",
       " '_i13',\n",
       " '_i14',\n",
       " '_i15',\n",
       " '_i16',\n",
       " '_i17',\n",
       " '_i18',\n",
       " '_i19',\n",
       " '_i2',\n",
       " '_i20',\n",
       " '_i21',\n",
       " '_i22',\n",
       " '_i23',\n",
       " '_i24',\n",
       " '_i25',\n",
       " '_i26',\n",
       " '_i27',\n",
       " '_i28',\n",
       " '_i29',\n",
       " '_i3',\n",
       " '_i30',\n",
       " '_i31',\n",
       " '_i32',\n",
       " '_i33',\n",
       " '_i34',\n",
       " '_i35',\n",
       " '_i36',\n",
       " '_i37',\n",
       " '_i38',\n",
       " '_i39',\n",
       " '_i4',\n",
       " '_i40',\n",
       " '_i41',\n",
       " '_i42',\n",
       " '_i43',\n",
       " '_i44',\n",
       " '_i5',\n",
       " '_i6',\n",
       " '_i7',\n",
       " '_i8',\n",
       " '_i9',\n",
       " '_ih',\n",
       " '_ii',\n",
       " '_iii',\n",
       " '_oh',\n",
       " 'a',\n",
       " 'b',\n",
       " 'dataframe_columns',\n",
       " 'dataframe_hash',\n",
       " 'dtypes_str',\n",
       " 'exit',\n",
       " 'get_dataframes',\n",
       " 'get_ipython',\n",
       " 'getpass',\n",
       " 'hashlib',\n",
       " 'import_pandas_safely',\n",
       " 'is_data_frame',\n",
       " 'json',\n",
       " 'num',\n",
       " 'num1',\n",
       " 'num3',\n",
       " 'open',\n",
       " 'quit',\n",
       " 'string1',\n",
       " 'string2',\n",
       " 'var',\n",
       " 'var4',\n",
       " 'x',\n",
       " 'y',\n",
       " 'z']"
      ]
     },
     "execution_count": 44,
     "metadata": {},
     "output_type": "execute_result"
    }
   ],
   "source": [
    "dir()"
   ]
  },
  {
   "cell_type": "code",
   "execution_count": 46,
   "id": "5436bd9d-57ea-4f2c-b575-41ccccd7dd86",
   "metadata": {},
   "outputs": [],
   "source": [
    "del(var4)"
   ]
  },
  {
   "cell_type": "code",
   "execution_count": 48,
   "id": "861c4a0d-8855-4650-abbf-b5020823845b",
   "metadata": {},
   "outputs": [
    {
     "data": {
      "text/plain": [
       "['In',\n",
       " 'Out',\n",
       " '_',\n",
       " '_11',\n",
       " '_13',\n",
       " '_15',\n",
       " '_16',\n",
       " '_18',\n",
       " '_2',\n",
       " '_20',\n",
       " '_22',\n",
       " '_23',\n",
       " '_25',\n",
       " '_27',\n",
       " '_28',\n",
       " '_3',\n",
       " '_30',\n",
       " '_32',\n",
       " '_33',\n",
       " '_34',\n",
       " '_36',\n",
       " '_38',\n",
       " '_4',\n",
       " '_40',\n",
       " '_41',\n",
       " '_43',\n",
       " '_44',\n",
       " '_45',\n",
       " '_47',\n",
       " '_5',\n",
       " '_6',\n",
       " '_8',\n",
       " '_9',\n",
       " '__',\n",
       " '___',\n",
       " '__builtin__',\n",
       " '__builtins__',\n",
       " '__doc__',\n",
       " '__loader__',\n",
       " '__name__',\n",
       " '__package__',\n",
       " '__pandas',\n",
       " '__session__',\n",
       " '__spec__',\n",
       " '_dh',\n",
       " '_i',\n",
       " '_i1',\n",
       " '_i10',\n",
       " '_i11',\n",
       " '_i12',\n",
       " '_i13',\n",
       " '_i14',\n",
       " '_i15',\n",
       " '_i16',\n",
       " '_i17',\n",
       " '_i18',\n",
       " '_i19',\n",
       " '_i2',\n",
       " '_i20',\n",
       " '_i21',\n",
       " '_i22',\n",
       " '_i23',\n",
       " '_i24',\n",
       " '_i25',\n",
       " '_i26',\n",
       " '_i27',\n",
       " '_i28',\n",
       " '_i29',\n",
       " '_i3',\n",
       " '_i30',\n",
       " '_i31',\n",
       " '_i32',\n",
       " '_i33',\n",
       " '_i34',\n",
       " '_i35',\n",
       " '_i36',\n",
       " '_i37',\n",
       " '_i38',\n",
       " '_i39',\n",
       " '_i4',\n",
       " '_i40',\n",
       " '_i41',\n",
       " '_i42',\n",
       " '_i43',\n",
       " '_i44',\n",
       " '_i45',\n",
       " '_i46',\n",
       " '_i47',\n",
       " '_i48',\n",
       " '_i5',\n",
       " '_i6',\n",
       " '_i7',\n",
       " '_i8',\n",
       " '_i9',\n",
       " '_ih',\n",
       " '_ii',\n",
       " '_iii',\n",
       " '_oh',\n",
       " 'a',\n",
       " 'b',\n",
       " 'dataframe_columns',\n",
       " 'dataframe_hash',\n",
       " 'dtypes_str',\n",
       " 'exit',\n",
       " 'get_dataframes',\n",
       " 'get_ipython',\n",
       " 'getpass',\n",
       " 'hashlib',\n",
       " 'import_pandas_safely',\n",
       " 'is_data_frame',\n",
       " 'json',\n",
       " 'num',\n",
       " 'num1',\n",
       " 'num3',\n",
       " 'open',\n",
       " 'quit',\n",
       " 'string1',\n",
       " 'string2',\n",
       " 'var',\n",
       " 'x',\n",
       " 'y',\n",
       " 'z']"
      ]
     },
     "execution_count": 48,
     "metadata": {},
     "output_type": "execute_result"
    }
   ],
   "source": [
    "dir()"
   ]
  },
  {
   "cell_type": "code",
   "execution_count": null,
   "id": "5dbba09d-921b-495e-bedd-32e2339cdc39",
   "metadata": {},
   "outputs": [],
   "source": []
  }
 ],
 "metadata": {
  "kernelspec": {
   "display_name": "Python 3 (ipykernel)",
   "language": "python",
   "name": "python3"
  },
  "language_info": {
   "codemirror_mode": {
    "name": "ipython",
    "version": 3
   },
   "file_extension": ".py",
   "mimetype": "text/x-python",
   "name": "python",
   "nbconvert_exporter": "python",
   "pygments_lexer": "ipython3",
   "version": "3.12.7"
  }
 },
 "nbformat": 4,
 "nbformat_minor": 5
}
