{
 "cells": [
  {
   "cell_type": "code",
   "execution_count": 4,
   "id": "92ddc689-e3f7-4e52-90d8-3d3d1732b9a4",
   "metadata": {},
   "outputs": [
    {
     "name": "stdout",
     "output_type": "stream",
     "text": [
      "[1, 2, 3, 4, 5, 6]\n"
     ]
    }
   ],
   "source": [
    "list1 = [1,2,3,4,5,6]\n",
    "print(list1)"
   ]
  },
  {
   "cell_type": "code",
   "execution_count": 6,
   "id": "ce817854-0c1c-4c24-a052-0288b666b22b",
   "metadata": {},
   "outputs": [
    {
     "name": "stdout",
     "output_type": "stream",
     "text": [
      "<class 'list'> [2.3, 4.5, 6.5, 0.0]\n"
     ]
    }
   ],
   "source": [
    "list2 = [2.3,4.5,6.5,0.0]\n",
    "print(type(list2),list2)"
   ]
  },
  {
   "cell_type": "code",
   "execution_count": 8,
   "id": "64fca25a-6e8a-4324-a8d1-8ab3805c1948",
   "metadata": {},
   "outputs": [
    {
     "name": "stdout",
     "output_type": "stream",
     "text": [
      "['Hello muqadas', 'Python Programming', 'learning python']\n"
     ]
    }
   ],
   "source": [
    "string_list = [\"Hello muqadas\",\"Python Programming\",\"learning python\"]\n",
    "print(string_list)"
   ]
  },
  {
   "cell_type": "code",
   "execution_count": 32,
   "id": "17b14921-891f-4516-83a8-97b6cccb785e",
   "metadata": {},
   "outputs": [
    {
     "name": "stdout",
     "output_type": "stream",
     "text": [
      "<class 'list'>\n",
      "['Hello World', 10, 11, 12, 5.4, 6.7, [1, 2, 3, 'a', 'b', 'c']]\n"
     ]
    }
   ],
   "source": [
    "multi_types_list = [\"Hello World\",10,11,12,5.4,6.7,[1,2,3,'a','b','c']]\n",
    "print(type(multi_types_list))\n",
    "print(multi_types_list)"
   ]
  },
  {
   "cell_type": "code",
   "execution_count": 22,
   "id": "113207da-9441-4166-928c-299678d043a6",
   "metadata": {},
   "outputs": [
    {
     "name": "stdout",
     "output_type": "stream",
     "text": [
      "[]\n",
      "<class 'list'>\n"
     ]
    }
   ],
   "source": [
    "empty_list = []\n",
    "print(empty_list)\n",
    "print(type(empty_list))\n"
   ]
  },
  {
   "cell_type": "code",
   "execution_count": 28,
   "id": "2abcab4b-4358-49fd-b4e2-7e82353f861a",
   "metadata": {},
   "outputs": [
    {
     "name": "stdout",
     "output_type": "stream",
     "text": [
      "list[1]\n"
     ]
    }
   ],
   "source": [
    "bool_list = [True,False,True]\n",
    "print(type(bool_list))"
   ]
  },
  {
   "cell_type": "code",
   "execution_count": 60,
   "id": "8a788d17-b1d8-47ba-a475-a875f1c30284",
   "metadata": {},
   "outputs": [
    {
     "name": "stdout",
     "output_type": "stream",
     "text": [
      "[1, 2, 3, ['a', 'b'], 4, 5, 6]\n",
      "['a', 'b', 'c', 'd', [1, 2, 3, 4, 5]]\n",
      "[]\n"
     ]
    }
   ],
   "source": [
    "integer_list = [1,2,3,['a','b'],4,5,6]\n",
    "string_list = ['a','b','c','d',[1,2,3,4,5]]\n",
    "empty_list1 = []\n",
    "print(integer_list , string_list,empty_list1 , sep = '\\n') "
   ]
  },
  {
   "cell_type": "markdown",
   "id": "6b7b74f4-abab-47de-bb65-e5288d2d7fd0",
   "metadata": {},
   "source": [
    "---\n",
    "#### prrof of concept POC\n",
    "#### lists POC\n",
    "---\n"
   ]
  },
  {
   "cell_type": "code",
   "execution_count": 69,
   "id": "8ba9d75d-cc7a-4180-a017-eb0413edfe42",
   "metadata": {},
   "outputs": [
    {
     "name": "stdout",
     "output_type": "stream",
     "text": [
      "[1, 23, 3, 4, 5, 6]\n"
     ]
    }
   ],
   "source": [
    "number_list = [1,2,3,4,5,6]\n",
    "number_list[1] = 23\n",
    "print(number_list)"
   ]
  },
  {
   "cell_type": "markdown",
   "id": "38764c21-fcb6-4fef-8a9b-194eb1b0fde5",
   "metadata": {},
   "source": [
    "---\n",
    "<h3>List unpacking</h3>\n"
   ]
  },
  {
   "cell_type": "code",
   "execution_count": 113,
   "id": "39034d91-e49b-46c3-811c-c62a6576e0c2",
   "metadata": {},
   "outputs": [
    {
     "name": "stdout",
     "output_type": "stream",
     "text": [
      "you are learner\n"
     ]
    }
   ],
   "source": [
    "\n",
    "mylist = ['you','are','python','learner']\n",
    "a,b,c,d = mylist  # for unpacking you have to write alphabets according to your list length\n",
    "print(a,b,d)"
   ]
  },
  {
   "cell_type": "code",
   "execution_count": 111,
   "id": "b7f9f5e8-eb1b-4650-872f-e849e3b98a2f",
   "metadata": {},
   "outputs": [
    {
     "name": "stdout",
     "output_type": "stream",
     "text": [
      "(1, 'muqadas', 'a', 'hello world')\n",
      "<class 'tuple'>\n"
     ]
    }
   ],
   "source": [
    "one_tuple = 1,'muqadas', 'a' ,'hello world'\n",
    "print(one_tuple)\n",
    "print(type(one_tuple))\n"
   ]
  },
  {
   "cell_type": "markdown",
   "id": "91c177b0-5a2b-446a-b4ac-fc63b6b5f990",
   "metadata": {},
   "source": [
    "---\n",
    "<h3>List Packing</h3>"
   ]
  },
  {
   "cell_type": "code",
   "execution_count": 109,
   "id": "4a5e90f2-7fc9-4998-8f5c-88d4ea27efad",
   "metadata": {},
   "outputs": [
    {
     "name": "stdout",
     "output_type": "stream",
     "text": [
      "(1, 2, 3, 4)\n",
      "[1, 2, 3, 4]\n"
     ]
    }
   ],
   "source": [
    "integer_tuple = 1,2,3,4\n",
    "my_list = list(integer_tuple)\n",
    "print(integer_tuple)\n",
    "print(my_list)"
   ]
  },
  {
   "cell_type": "markdown",
   "id": "6ad114b5-abb5-4d96-842d-94d96e23b9b1",
   "metadata": {},
   "source": [
    "---\n",
    "<h3>length of a string & indexing</h3>"
   ]
  },
  {
   "cell_type": "code",
   "execution_count": 133,
   "id": "dd25a467-3c15-4f47-83a8-00702598721d",
   "metadata": {},
   "outputs": [
    {
     "name": "stdout",
     "output_type": "stream",
     "text": [
      "3\n"
     ]
    }
   ],
   "source": [
    "list_one = ['Hello','world',3,4 ,56.7]\n",
    "#print(list_one[0])\n",
    "print(len(list_one)-2)\n",
    "#print(len(list_one))"
   ]
  },
  {
   "cell_type": "markdown",
   "id": "09860341-2688-4bf7-8682-37721d459af5",
   "metadata": {},
   "source": [
    "---\n",
    "<h3>Indexing &  nested Lists</h3>"
   ]
  },
  {
   "cell_type": "code",
   "execution_count": 159,
   "id": "a7bf150f-f68a-4d58-9e12-72eb21360f70",
   "metadata": {},
   "outputs": [
    {
     "name": "stdout",
     "output_type": "stream",
     "text": [
      "world\n",
      "t\n"
     ]
    }
   ],
   "source": [
    "list1 = ['python',3,5.5,['world','i am a student']]\n",
    "print(list1[3][0])\n",
    "print(list1[0][2])"
   ]
  },
  {
   "cell_type": "code",
   "execution_count": 167,
   "id": "65710b26-9437-4bbf-a9f5-4a9ecd6fc593",
   "metadata": {},
   "outputs": [
    {
     "data": {
      "text/plain": [
       "3"
      ]
     },
     "execution_count": 167,
     "metadata": {},
     "output_type": "execute_result"
    }
   ],
   "source": [
    "list1.index(['world','i am a student'])"
   ]
  },
  {
   "cell_type": "code",
   "execution_count": null,
   "id": "81d7f14c-d9bf-42af-8548-da229a600849",
   "metadata": {},
   "outputs": [],
   "source": []
  }
 ],
 "metadata": {
  "kernelspec": {
   "display_name": "Python 3 (ipykernel)",
   "language": "python",
   "name": "python3"
  },
  "language_info": {
   "codemirror_mode": {
    "name": "ipython",
    "version": 3
   },
   "file_extension": ".py",
   "mimetype": "text/x-python",
   "name": "python",
   "nbconvert_exporter": "python",
   "pygments_lexer": "ipython3",
   "version": "3.12.7"
  }
 },
 "nbformat": 4,
 "nbformat_minor": 5
}
