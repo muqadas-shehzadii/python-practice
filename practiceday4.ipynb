{
 "cells": [
  {
   "cell_type": "markdown",
   "id": "97c21a2c-23f4-4f1e-adcc-fc953ec52ccd",
   "metadata": {},
   "source": [
    "#### check if a string contains a digit (not using isdigit method)"
   ]
  },
  {
   "cell_type": "code",
   "execution_count": 26,
   "id": "adb5ec03-0d4a-4f6b-9dfb-2ba54f39f0c1",
   "metadata": {},
   "outputs": [
    {
     "name": "stdout",
     "output_type": "stream",
     "text": [
      "True\n"
     ]
    }
   ],
   "source": [
    "string = \"Hey Muqadas you are 21 years old!\"\n",
    "result=bool(set(string) & set('0123456789'))\n",
    "print(result)\n"
   ]
  },
  {
   "cell_type": "code",
   "execution_count": 161,
   "id": "99704e94-24bc-490c-a1b1-cb8aa1ef3726",
   "metadata": {},
   "outputs": [
    {
     "name": "stdin",
     "output_type": "stream",
     "text": [
      "Enter a string she is a girl\n"
     ]
    },
    {
     "name": "stdout",
     "output_type": "stream",
     "text": [
      "There's no digit in a string\n"
     ]
    }
   ],
   "source": [
    "var1 = input(\"Enter a string\")\n",
    "if('0' in var1 or '1' in var1 or '2' in var1 or '3' in var1  or '4' in var1 or '5' in var1 or '6' in var1 or '7' in var1 or '8' in var1 or '9' in var1):\n",
    "    print(\"string contains digits\")\n",
    "else:\n",
    "    print(\"There's no digit in a string\")\n",
    "    "
   ]
  },
  {
   "cell_type": "markdown",
   "id": "1df095b4-a890-4701-9d54-bd14d43f5744",
   "metadata": {},
   "source": [
    "#### check if a string starts with a vowel"
   ]
  },
  {
   "cell_type": "code",
   "execution_count": 36,
   "id": "1fb85f2a-d687-4a78-82e4-11ef4160238c",
   "metadata": {},
   "outputs": [
    {
     "name": "stdout",
     "output_type": "stream",
     "text": [
      "False\n"
     ]
    }
   ],
   "source": [
    "s = \"I am a girl!\"\n",
    "print(s[0].lower() in 'aeiou')\n"
   ]
  },
  {
   "cell_type": "code",
   "execution_count": 163,
   "id": "b1c7aebd-523a-483e-b30e-a476cd3e4d33",
   "metadata": {},
   "outputs": [
    {
     "name": "stdin",
     "output_type": "stream",
     "text": [
      "Enter a string muqadas here\n"
     ]
    },
    {
     "name": "stdout",
     "output_type": "stream",
     "text": [
      "string starts with consonants\n"
     ]
    }
   ],
   "source": [
    "var2 = input(\"Enter a string\")\n",
    "if var2[0].lower() in 'aeiou':\n",
    "    print(\"String start with vowels\")\n",
    "else:\n",
    "    print(\"string starts with consonants\")\n",
    "             "
   ]
  },
  {
   "cell_type": "markdown",
   "id": "16229196-4bda-47f6-ac15-2e22402ddcc0",
   "metadata": {},
   "source": [
    "#### check if a string ends with a specific character"
   ]
  },
  {
   "cell_type": "code",
   "execution_count": 39,
   "id": "57255ed7-18a1-4648-afe9-e1d833ed9711",
   "metadata": {},
   "outputs": [
    {
     "name": "stdout",
     "output_type": "stream",
     "text": [
      "True\n"
     ]
    }
   ],
   "source": [
    "string = \"I am doing well\"\n",
    "print(string.endswith('l'))"
   ]
  },
  {
   "cell_type": "code",
   "execution_count": 106,
   "id": "c055b5cb-265e-4293-ad3b-35d8f363b637",
   "metadata": {},
   "outputs": [
    {
     "name": "stdin",
     "output_type": "stream",
     "text": [
      "Enter a string she is z\n"
     ]
    },
    {
     "name": "stdout",
     "output_type": "stream",
     "text": [
      "True\n"
     ]
    }
   ],
   "source": [
    "var3 = input(\"Enter a string\")\n",
    "specific_char = 'a','b','c','d','e', 'f', 'g','h','i','j','k','l','m','n','o','p','q','r','s','t','u','v','w','x','y',\n",
    "\n",
    "print(var3.endswith(specific_char))"
   ]
  },
  {
   "cell_type": "code",
   "execution_count": 167,
   "id": "9fbd2c1b-a69d-4a3f-804a-91e3c8afc2fb",
   "metadata": {},
   "outputs": [
    {
     "name": "stdin",
     "output_type": "stream",
     "text": [
      "Enter a string i am muqadas\n"
     ]
    },
    {
     "name": "stdout",
     "output_type": "stream",
     "text": [
      "sting ends with specific character\n"
     ]
    }
   ],
   "source": [
    "var3 = input(\"Enter a string\")\n",
    "specific_char = 'a','b','c','d','e', 'f', 'g','h','i','j','k','l','m','n','o','p','q','r','s','t','u','v','w','x','y',\n",
    "if var3.endswith(specific_char):\n",
    "    print(\"sting ends with specific character\")\n",
    "else:\n",
    "    print(\"string not ends with specifi character\")"
   ]
  },
  {
   "cell_type": "markdown",
   "id": "8e378d42-90e5-404a-830d-91f72addfef8",
   "metadata": {},
   "source": [
    "#### check if a string is a palindrome"
   ]
  },
  {
   "cell_type": "code",
   "execution_count": 81,
   "id": "484118c7-b322-4138-a117-e34ac8a42cad",
   "metadata": {},
   "outputs": [
    {
     "data": {
      "text/plain": [
       "True"
      ]
     },
     "execution_count": 81,
     "metadata": {},
     "output_type": "execute_result"
    }
   ],
   "source": [
    "var = \"Maham\"\n",
    "palindrome = var.lower()[:: -1]\n",
    "var.lower() == palindrome "
   ]
  },
  {
   "cell_type": "code",
   "execution_count": 112,
   "id": "1b8d00d8-359b-4acf-99df-bf12a19b7289",
   "metadata": {},
   "outputs": [
    {
     "name": "stdin",
     "output_type": "stream",
     "text": [
      "Enter a string maham\n"
     ]
    },
    {
     "data": {
      "text/plain": [
       "True"
      ]
     },
     "execution_count": 112,
     "metadata": {},
     "output_type": "execute_result"
    }
   ],
   "source": [
    "var4 = input(\"Enter a string\")\n",
    "palindrome = var4.lower()[:: -1]\n",
    "var4.lower() == palindrome"
   ]
  },
  {
   "cell_type": "code",
   "execution_count": 169,
   "id": "a145e6d4-cf92-4651-a21e-3ec9f9b8cc71",
   "metadata": {},
   "outputs": [
    {
     "name": "stdin",
     "output_type": "stream",
     "text": [
      "Enter a string muqadas\n"
     ]
    },
    {
     "name": "stdout",
     "output_type": "stream",
     "text": [
      "String id not palindrome\n"
     ]
    }
   ],
   "source": [
    "var4 = input(\"Enter a string\")\n",
    "palindrome = var4.lower()[:: -1]\n",
    "if var4.lower() == palindrome:\n",
    "    print(\"string is pqalindrome\")\n",
    "else:\n",
    "    print(\"String is not palindrome\")"
   ]
  },
  {
   "cell_type": "markdown",
   "id": "2dc17e38-3902-4167-acac-678a5b39b5a8",
   "metadata": {},
   "source": [
    "#### check if a string contains a special characters"
   ]
  },
  {
   "cell_type": "code",
   "execution_count": 96,
   "id": "da25a44a-ba10-44cd-89a9-350df5aa1319",
   "metadata": {},
   "outputs": [
    {
     "name": "stdout",
     "output_type": "stream",
     "text": [
      "True\n"
     ]
    }
   ],
   "source": [
    "username= \"muqadas@0303\"\n",
    "print(\"!\" in username or \"#\" in username or \"$\" in username or \"@\" in username or \"&\" in username or \"$\" in username)"
   ]
  },
  {
   "cell_type": "code",
   "execution_count": 118,
   "id": "39bde348-49d1-4668-9340-b760bea42e04",
   "metadata": {},
   "outputs": [
    {
     "name": "stdin",
     "output_type": "stream",
     "text": [
      "Enter a string muqadas@gmail.com\n"
     ]
    },
    {
     "name": "stdout",
     "output_type": "stream",
     "text": [
      "True\n"
     ]
    }
   ],
   "source": [
    "var5 = input(\"Enter a string\")\n",
    "print(\"!\" in var5 or \"#\" in var5 or \"$\" in var5 or \"@\" in var5 or \"&\" in var5 or \"$\" in var5)\n"
   ]
  },
  {
   "cell_type": "code",
   "execution_count": 171,
   "id": "7539485b-5ecf-4a2b-9a47-9466f9d41829",
   "metadata": {},
   "outputs": [
    {
     "name": "stdin",
     "output_type": "stream",
     "text": [
      "Enter a string muqadas@gmail.com\n"
     ]
    },
    {
     "name": "stdout",
     "output_type": "stream",
     "text": [
      "string contains a special character\n"
     ]
    }
   ],
   "source": [
    "var5 = input(\"Enter a string\")\n",
    "if(\"!\" in var5 or \"#\" in var5 or \"$\" in var5 or \"@\" in var5 or \"&\" in var5 or \"$\" in var5):\n",
    "    print(\"string contains special characters\")\n",
    "else:\n",
    "    print(\"string does'nt contain special characters\")"
   ]
  },
  {
   "cell_type": "markdown",
   "id": "26c8fb43-2341-4389-980e-6e9de5ef8d10",
   "metadata": {},
   "source": [
    "#### check if a number is present as a substring"
   ]
  },
  {
   "cell_type": "code",
   "execution_count": 175,
   "id": "3d1e8be6-9123-4d90-822e-a9d20400c43a",
   "metadata": {},
   "outputs": [
    {
     "name": "stdin",
     "output_type": "stream",
     "text": [
      "Enter any string statement hello muqadas9\n",
      "Enter a number as a substring 9\n"
     ]
    },
    {
     "name": "stdout",
     "output_type": "stream",
     "text": [
      "True\n"
     ]
    }
   ],
   "source": [
    "str1 = input(\"Enter any string statement\")\n",
    "substr = input(\"Enter a number as a substring\")\n",
    "print(substr in str1)"
   ]
  },
  {
   "cell_type": "code",
   "execution_count": 120,
   "id": "db8c5fd6-0f7c-453e-aa26-747fd7a05c24",
   "metadata": {},
   "outputs": [
    {
     "name": "stdin",
     "output_type": "stream",
     "text": [
      "Enter a string hello muqadas shehzadi\n",
      "Enter a substring shehzadi\n"
     ]
    },
    {
     "name": "stdout",
     "output_type": "stream",
     "text": [
      "True\n"
     ]
    }
   ],
   "source": [
    "str2 = input(\"Enter a string\")\n",
    "str3 = input(\"Enter a substring\")\n",
    "print(str3 in str2)"
   ]
  },
  {
   "cell_type": "code",
   "execution_count": 177,
   "id": "52a494bc-f9e0-46ae-bf0c-b04bb30955fb",
   "metadata": {},
   "outputs": [
    {
     "name": "stdin",
     "output_type": "stream",
     "text": [
      "Enter a string muqadas hello 0\n",
      "Enter a substring 0\n"
     ]
    },
    {
     "name": "stdout",
     "output_type": "stream",
     "text": [
      "Number exist as a substring\n"
     ]
    }
   ],
   "source": [
    "str2 = input(\"Enter a string\")\n",
    "str3 = input(\"Enter a substring\")\n",
    "if(str3 in str2):\n",
    "    print(\"Number exist as a substring\")\n",
    "else:\n",
    "    print(\"Number dose'nt exist as a substring\")"
   ]
  },
  {
   "cell_type": "markdown",
   "id": "4a9b4a09-8b43-425c-afaf-68b2b7345b1f",
   "metadata": {},
   "source": [
    "#### check if a string contains both letters and numbers"
   ]
  },
  {
   "cell_type": "code",
   "execution_count": 197,
   "id": "e96a9c1c-a4c3-4479-8799-62b16b25f068",
   "metadata": {},
   "outputs": [
    {
     "name": "stdout",
     "output_type": "stream",
     "text": [
      "False\n"
     ]
    }
   ],
   "source": [
    "str2 = \"muqadas \"\n",
    "print(str2.isalnum() and not (str2.isdigit()) and not (str2.isalpha()))"
   ]
  },
  {
   "cell_type": "code",
   "execution_count": 193,
   "id": "3dd83e75-c872-4900-ba44-5fa55c18cf75",
   "metadata": {},
   "outputs": [
    {
     "name": "stdout",
     "output_type": "stream",
     "text": [
      "string contains both numbers and digits\n"
     ]
    }
   ],
   "source": [
    "str2 = \"muqadas6\"\n",
    "if(str2.isalnum() and not (str2.isdigit()) and not (str2.isalpha())):\n",
    "    print(\"string contains both numbers and digits\")\n",
    "else:\n",
    "    print(\"string dose'nt contain both numbers and digits\")\n"
   ]
  },
  {
   "cell_type": "markdown",
   "id": "721a2f27-0cb6-4b7b-96d2-5e632ff01125",
   "metadata": {},
   "source": [
    "#### check if a word exist in a sentence"
   ]
  },
  {
   "cell_type": "code",
   "execution_count": 1,
   "id": "da4036b4-8b8f-4ad3-b39a-00a1f8cfb617",
   "metadata": {},
   "outputs": [
    {
     "name": "stdin",
     "output_type": "stream",
     "text": [
      "Enter a sentence he is a boy\n",
      "Enter a word  boy\n"
     ]
    },
    {
     "name": "stdout",
     "output_type": "stream",
     "text": [
      "True\n"
     ]
    }
   ],
   "source": [
    "sentence = input(\"Enter a sentence\")\n",
    "word = input(\"Enter a word \")\n",
    "print(word.lower() in sentence.lower())\n"
   ]
  },
  {
   "cell_type": "code",
   "execution_count": 122,
   "id": "0a281d6c-bd9e-477c-8ecb-b8c2229527df",
   "metadata": {},
   "outputs": [
    {
     "name": "stdin",
     "output_type": "stream",
     "text": [
      "Enter a setence he is a boy\n",
      "Enter word1 boy\n"
     ]
    },
    {
     "name": "stdout",
     "output_type": "stream",
     "text": [
      "True\n"
     ]
    }
   ],
   "source": [
    "sentence1 = input(\"Enter a setence\")\n",
    "word1 = input(\"Enter word1\")\n",
    "print(word.lower() in sentence.lower()) "
   ]
  },
  {
   "cell_type": "markdown",
   "id": "e8774676-15af-41f2-ae8d-4a0ff470e098",
   "metadata": {},
   "source": [
    "#### Arithmetic operations are\n",
    "##### additioin , symbol +\n",
    "##### subtraction ,symbol -\n",
    "##### muliply , symbol *\n"
   ]
  },
  {
   "cell_type": "code",
   "execution_count": 157,
   "id": "22847160-d9bd-41ae-96a5-9a7c81b28d07",
   "metadata": {},
   "outputs": [
    {
     "name": "stdout",
     "output_type": "stream",
     "text": [
      "Arithmetic operators are : \n",
      "\t 1: Addition , symbol + \n",
      "\t 2: Subtraction , symbol - \n",
      "\t 3: Multiplication , symbol *\n"
     ]
    }
   ],
   "source": [
    "print(\"Arithmetic operators are : \\n\\t 1: Addition , symbol + \\n\\t 2: Subtraction , symbol - \\n\\t 3: Multiplication , symbol *\" )"
   ]
  }
 ],
 "metadata": {
  "kernelspec": {
   "display_name": "Python 3 (ipykernel)",
   "language": "python",
   "name": "python3"
  },
  "language_info": {
   "codemirror_mode": {
    "name": "ipython",
    "version": 3
   },
   "file_extension": ".py",
   "mimetype": "text/x-python",
   "name": "python",
   "nbconvert_exporter": "python",
   "pygments_lexer": "ipython3",
   "version": "3.12.7"
  }
 },
 "nbformat": 4,
 "nbformat_minor": 5
}
